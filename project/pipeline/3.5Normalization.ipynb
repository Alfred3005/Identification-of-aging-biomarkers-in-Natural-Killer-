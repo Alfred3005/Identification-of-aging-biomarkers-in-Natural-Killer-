{
 "cells": [
  {
   "cell_type": "code",
   "execution_count": 1,
   "id": "9259df90-a89b-44a4-aaea-b7079f01eb59",
   "metadata": {
    "execution": {
     "iopub.execute_input": "2024-09-27T18:22:46.121840Z",
     "iopub.status.busy": "2024-09-27T18:22:46.120920Z"
    }
   },
   "outputs": [
    {
     "name": "stdout",
     "output_type": "stream",
     "text": [
      "Procesando archivo: filtered_b cells_data.h5ad\n",
      "Archivo cargado. Forma inicial: (7352, 2000)\n",
      "Tipo de datos de adata.X: <class 'scipy.sparse._csr.csr_matrix'>\n",
      "Haciendo los nombres de observaciones únicos...\n",
      "Guardando cuentas crudas...\n",
      "Seleccionando genes altamente variables...\n",
      "Número de HVG seleccionados: 2000\n"
     ]
    },
    {
     "name": "stderr",
     "output_type": "stream",
     "text": [
      "/root/.pyenv/versions/3.9.7/lib/python3.9/site-packages/scanpy/preprocessing/_simple.py:405: UserWarning: Received a view of an AnnData. Making a copy.\n",
      "  view_to_actual(adata)\n"
     ]
    },
    {
     "name": "stdout",
     "output_type": "stream",
     "text": [
      "Forma después de seleccionar HVG: (7352, 2000)\n"
     ]
    },
    {
     "name": "stderr",
     "output_type": "stream",
     "text": [
      "/root/.pyenv/versions/3.9.7/lib/python3.9/site-packages/scanpy/plotting/_utils.py:471: ImplicitModificationWarning: Trying to modify attribute `._uns` of view, initializing view as actual.\n",
      "  adata.uns[value_to_plot + \"_colors\"] = colors_list\n",
      "/tmp/ipykernel_80498/1226614483.py:34: UserWarning: This figure includes Axes that are not compatible with tight_layout, so results might be incorrect.\n",
      "  plt.tight_layout()\n"
     ]
    },
    {
     "name": "stdout",
     "output_type": "stream",
     "text": [
      "Realizando normalización...\n",
      "Realizando escalado...\n",
      "Guardando resultado en: /app/project/pipeline_colombia/3.5normalized&scaled_by_group/processed_filtered_b cells_data.h5ad\n",
      "Procesamiento completado para filtered_b cells_data.h5ad\n",
      "Forma final del objeto AnnData: (7352, 2000)\n",
      "Procesando archivo: filtered_nk cells_data.h5ad\n",
      "Archivo cargado. Forma inicial: (12206, 2000)\n",
      "Tipo de datos de adata.X: <class 'scipy.sparse._csr.csr_matrix'>\n",
      "Haciendo los nombres de observaciones únicos...\n",
      "Guardando cuentas crudas...\n",
      "Seleccionando genes altamente variables...\n",
      "Número de HVG seleccionados: 2000\n"
     ]
    },
    {
     "name": "stderr",
     "output_type": "stream",
     "text": [
      "/root/.pyenv/versions/3.9.7/lib/python3.9/site-packages/scanpy/preprocessing/_simple.py:405: UserWarning: Received a view of an AnnData. Making a copy.\n",
      "  view_to_actual(adata)\n"
     ]
    },
    {
     "name": "stdout",
     "output_type": "stream",
     "text": [
      "Forma después de seleccionar HVG: (12206, 2000)\n"
     ]
    },
    {
     "name": "stderr",
     "output_type": "stream",
     "text": [
      "/root/.pyenv/versions/3.9.7/lib/python3.9/site-packages/scanpy/plotting/_utils.py:471: ImplicitModificationWarning: Trying to modify attribute `._uns` of view, initializing view as actual.\n",
      "  adata.uns[value_to_plot + \"_colors\"] = colors_list\n",
      "/tmp/ipykernel_80498/1226614483.py:34: UserWarning: This figure includes Axes that are not compatible with tight_layout, so results might be incorrect.\n",
      "  plt.tight_layout()\n"
     ]
    },
    {
     "name": "stdout",
     "output_type": "stream",
     "text": [
      "Realizando normalización...\n",
      "Realizando escalado...\n",
      "Guardando resultado en: /app/project/pipeline_colombia/3.5normalized&scaled_by_group/processed_filtered_nk cells_data.h5ad\n",
      "Procesamiento completado para filtered_nk cells_data.h5ad\n",
      "Forma final del objeto AnnData: (12206, 2000)\n",
      "Procesando archivo: filtered_t cells_data.h5ad\n",
      "Archivo cargado. Forma inicial: (23663, 2000)\n",
      "Tipo de datos de adata.X: <class 'scipy.sparse._csr.csr_matrix'>\n",
      "Haciendo los nombres de observaciones únicos...\n",
      "Guardando cuentas crudas...\n",
      "Seleccionando genes altamente variables...\n",
      "Número de HVG seleccionados: 2000\n"
     ]
    },
    {
     "name": "stderr",
     "output_type": "stream",
     "text": [
      "/root/.pyenv/versions/3.9.7/lib/python3.9/site-packages/scanpy/preprocessing/_simple.py:405: UserWarning: Received a view of an AnnData. Making a copy.\n",
      "  view_to_actual(adata)\n"
     ]
    },
    {
     "name": "stdout",
     "output_type": "stream",
     "text": [
      "Error al procesar filtered_t cells_data.h5ad. Ver log para detalles.\n",
      "Procesamiento de todos los archivos completado.\n"
     ]
    },
    {
     "data": {
      "text/plain": [
       "<Figure size 1000x500 with 0 Axes>"
      ]
     },
     "metadata": {},
     "output_type": "display_data"
    },
    {
     "data": {
      "text/plain": [
       "<Figure size 1000x500 with 0 Axes>"
      ]
     },
     "metadata": {},
     "output_type": "display_data"
    },
    {
     "data": {
      "text/plain": [
       "<Figure size 1200x800 with 0 Axes>"
      ]
     },
     "metadata": {},
     "output_type": "display_data"
    },
    {
     "data": {
      "text/plain": [
       "<Figure size 1000x500 with 0 Axes>"
      ]
     },
     "metadata": {},
     "output_type": "display_data"
    },
    {
     "data": {
      "text/plain": [
       "<Figure size 1000x500 with 0 Axes>"
      ]
     },
     "metadata": {},
     "output_type": "display_data"
    },
    {
     "data": {
      "text/plain": [
       "<Figure size 1000x500 with 0 Axes>"
      ]
     },
     "metadata": {},
     "output_type": "display_data"
    },
    {
     "data": {
      "text/plain": [
       "<Figure size 1000x500 with 0 Axes>"
      ]
     },
     "metadata": {},
     "output_type": "display_data"
    },
    {
     "data": {
      "text/plain": [
       "<Figure size 1200x800 with 0 Axes>"
      ]
     },
     "metadata": {},
     "output_type": "display_data"
    },
    {
     "data": {
      "text/plain": [
       "<Figure size 1000x500 with 0 Axes>"
      ]
     },
     "metadata": {},
     "output_type": "display_data"
    },
    {
     "data": {
      "text/plain": [
       "<Figure size 1000x500 with 0 Axes>"
      ]
     },
     "metadata": {},
     "output_type": "display_data"
    },
    {
     "data": {
      "text/plain": [
       "<Figure size 1000x500 with 0 Axes>"
      ]
     },
     "metadata": {},
     "output_type": "display_data"
    }
   ],
   "source": [
    "#en esta funcion vamos a realizar una seleccion de HVG variable por el numero de genes por data set, además de una noramalización y escalado utilizando scanpy\n",
    "import os\n",
    "import anndata as ad\n",
    "import scanpy as sc\n",
    "import numpy as np\n",
    "import logging\n",
    "import matplotlib.pyplot as plt\n",
    "import seaborn as sns\n",
    "import scipy.sparse as sp\n",
    "\n",
    "logging.basicConfig(filename='processing_errors.log', level=logging.ERROR)\n",
    "\n",
    "\n",
    "def plot_count_distribution(adata, title):\n",
    "    plt.figure(figsize=(10, 5))\n",
    "    sc.pl.highest_expr_genes(adata, n_top=20, show=False)\n",
    "    plt.title(title)\n",
    "    plt.tight_layout()\n",
    "    plt.savefig(f\"{title.replace(' ', '_')}.png\")\n",
    "    plt.close()\n",
    "\n",
    "def plot_hvg(adata):\n",
    "    plt.figure(figsize=(10, 5))\n",
    "    sc.pl.highly_variable_genes(adata, show=False)\n",
    "    plt.tight_layout()\n",
    "    plt.savefig(\"highly_variable_genes.png\")\n",
    "    plt.close()\n",
    "\n",
    "def plot_hvg_heatmap(adata):\n",
    "    plt.figure(figsize=(12, 8))\n",
    "    sc.pl.heatmap(adata, var_names=adata.var.highly_variable.sort_values(ascending=False).head(50).index, \n",
    "                  groupby='source_file', show_gene_labels=True, show=False)\n",
    "    plt.title(\"Top 50 Highly Variable Genes\")\n",
    "    plt.tight_layout()\n",
    "    plt.savefig(\"hvg_heatmap.png\")\n",
    "    plt.close()\n",
    "\n",
    "def plot_pca(adata):\n",
    "    sc.tl.pca(adata)\n",
    "    plt.figure(figsize=(10, 5))\n",
    "    sc.pl.pca(adata, color='source_file', show=False)\n",
    "    plt.tight_layout()\n",
    "    plt.savefig(\"pca_plot.png\")\n",
    "    plt.close()\n",
    "\n",
    "def process_data(input_dir, output_dir):\n",
    "    os.makedirs(output_dir, exist_ok=True)\n",
    "    \n",
    "    for filename in os.listdir(input_dir):\n",
    "        if filename.endswith('.h5ad'):\n",
    "            input_file = os.path.join(input_dir, filename)\n",
    "            output_file = os.path.join(output_dir, f\"processed_{filename}\")\n",
    "            \n",
    "            print(f\"Procesando archivo: {filename}\")\n",
    "            \n",
    "            try:\n",
    "                # Cargar el archivo h5ad\n",
    "                adata = ad.read_h5ad(input_file)\n",
    "                print(f\"Archivo cargado. Forma inicial: {adata.shape}\")\n",
    "                \n",
    "                # Verificar integridad de datos\n",
    "                print(f\"Tipo de datos de adata.X: {type(adata.X)}\")\n",
    "                \n",
    "                # Manejar valores infinitos y NaN\n",
    "                logging.info(\"Manejando valores infinitos y NaN...\")\n",
    "                if sp.issparse(adata.X):\n",
    "                    adata.X = sp.csr_matrix(adata.X)\n",
    "                    adata.X.data = np.where(np.isinf(adata.X.data) | np.isnan(adata.X.data), 0, adata.X.data)\n",
    "                else:\n",
    "                    adata.X = np.where(np.isinf(adata.X) | np.isnan(adata.X), 0, adata.X)\n",
    "                \n",
    "                # Visualización de distribución de cuentas iniciales\n",
    "                plot_count_distribution(adata, f\"Distribución de cuentas iniciales - {filename}\")\n",
    "                \n",
    "                # Hacer los nombres de observaciones únicos\n",
    "                print(\"Haciendo los nombres de observaciones únicos...\")\n",
    "                adata.obs_names_make_unique()\n",
    "                \n",
    "                # Guardar cuentas \n",
    "                print(\"Guardando cuentas crudas...\")\n",
    "                adata.layers['counts'] = adata.X.copy()\n",
    "                \n",
    "                # Filtrar valores infinitos\n",
    "                adata = adata[:, np.isfinite(adata.X.sum(axis=0))]\n",
    "                \n",
    "                # Aplicar transformación logarítmica a los datos crudos\n",
    "                sc.pp.log1p(adata)\n",
    "                \n",
    "                # Selección de genes altamente variables (HVG) en datos transformados\n",
    "                print(\"Seleccionando genes altamente variables...\")\n",
    "                n_genes = adata.n_vars\n",
    "                if n_genes > 20000:\n",
    "                    n_top_genes = int(n_genes * 0.07)\n",
    "                elif n_genes > 10000:\n",
    "                    n_top_genes = 2000\n",
    "                else:\n",
    "                    n_top_genes = n_genes\n",
    "                \n",
    "                print(f\"Número de HVG seleccionados: {n_top_genes}\")\n",
    "                sc.pp.highly_variable_genes(adata, n_top_genes=n_top_genes, flavor='seurat', batch_key='source_file')\n",
    "                \n",
    "                # Visualización de genes altamente variables\n",
    "                plot_hvg(adata)\n",
    "                \n",
    "                # Filtrar para mantener solo HVG\n",
    "                adata = adata[:, adata.var.highly_variable]\n",
    "                print(f\"Forma después de seleccionar HVG: {adata.shape}\")\n",
    "                \n",
    "                # Visualización de heatmap de HVG\n",
    "                plot_hvg_heatmap(adata)\n",
    "                \n",
    "                # Normalización\n",
    "                print(\"Realizando normalización...\")\n",
    "                sc.pp.normalize_total(adata, target_sum=1e4)\n",
    "                \n",
    "                # Visualización de distribución de cuentas después de normalización\n",
    "                plot_count_distribution(adata, f\"Distribución de cuentas normalizadas - {filename}\")\n",
    "                \n",
    "                # Escalado\n",
    "                print(\"Realizando escalado...\")\n",
    "                sc.pp.scale(adata, max_value=10)\n",
    "                \n",
    "                # Visualización PCA después del escalado\n",
    "                plot_pca(adata)\n",
    "                \n",
    "                # Guardar datos procesados en raw\n",
    "                adata.raw = adata\n",
    "                \n",
    "                # Guardar el resultado\n",
    "                print(f\"Guardando resultado en: {output_file}\")\n",
    "                adata.write_h5ad(output_file)\n",
    "                \n",
    "                print(f\"Procesamiento completado para {filename}\")\n",
    "                print(f\"Forma final del objeto AnnData: {adata.shape}\")\n",
    "                \n",
    "            except Exception as e:\n",
    "                logging.error(f\"Error al procesar {filename}: {str(e)}\")\n",
    "                print(f\"Error al procesar {filename}. Ver log para detalles.\")\n",
    "                continue\n",
    "    \n",
    "    print(\"Procesamiento de todos los archivos completado.\")\n",
    "\n",
    "# Uso del script\n",
    "input_directory = '/app/project/pipeline_colombia/3.doublet_removal'\n",
    "output_directory = '/app/project/pipeline_colombia/3.5normalized&scaled_by_group'\n",
    "process_data(input_directory, output_directory)"
   ]
  },
  {
   "cell_type": "code",
   "execution_count": null,
   "id": "a34fa218-d7b8-445f-93e6-6fffdc7aeaa0",
   "metadata": {},
   "outputs": [],
   "source": []
  }
 ],
 "metadata": {
  "kernelspec": {
   "display_name": "Python 3",
   "language": "python",
   "name": "python3"
  },
  "language_info": {
   "codemirror_mode": {
    "name": "ipython",
    "version": 3
   },
   "file_extension": ".py",
   "mimetype": "text/x-python",
   "name": "python",
   "nbconvert_exporter": "python",
   "pygments_lexer": "ipython3",
   "version": "3.9.7"
  }
 },
 "nbformat": 4,
 "nbformat_minor": 5
}
