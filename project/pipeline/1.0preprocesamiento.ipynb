{
 "cells": [
  {
   "cell_type": "code",
   "execution_count": 1,
   "id": "7ae3b7a3-b939-4713-9e8b-35951fc97d68",
   "metadata": {
    "collapsed": true,
    "execution": {
     "iopub.execute_input": "2024-08-07T20:05:10.808417Z",
     "iopub.status.busy": "2024-08-07T20:05:10.807362Z",
     "iopub.status.idle": "2024-08-07T20:38:33.409395Z",
     "shell.execute_reply": "2024-08-07T20:38:33.408175Z",
     "shell.execute_reply.started": "2024-08-07T20:05:10.808341Z"
    },
    "jupyter": {
     "outputs_hidden": true
    },
    "scrolled": true
   },
   "outputs": [
    {
     "name": "stdout",
     "output_type": "stream",
     "text": [
      "Using raw.X for 53d208b0-2cfd-4366-9866-c3c6114081bc.h5ad\n",
      "Warning: 53d208b0-2cfd-4366-9866-c3c6114081bc.h5ad - data in adata.X are not integers.\n",
      "First few elements of adata.X after assignment: [9. 2. 1. 1. 3.]\n",
      "Initial shape of 53d208b0-2cfd-4366-9866-c3c6114081bc.h5ad: (483152, 58604)\n",
      "First few elements of adata.X after assignment: [9. 2. 1. 1. 3.]\n",
      "Shape after filtrar_muestra for 53d208b0-2cfd-4366-9866-c3c6114081bc.h5ad: (50115, 58604)\n",
      "Applied cell onthology dictionary for 53d208b0-2cfd-4366-9866-c3c6114081bc.h5ad\n"
     ]
    },
    {
     "name": "stderr",
     "output_type": "stream",
     "text": [
      "/tmp/ipykernel_5055/3499296130.py:96: FutureWarning: Setting an item of incompatible dtype is deprecated and will raise an error in a future version of pandas. Value 'edad no especifica' has dtype incompatible with int64, please explicitly cast to a compatible dtype first.\n",
      "  adata.obs.loc[~edades_explicitas, 'años'] = 'edad no especifica'\n"
     ]
    },
    {
     "name": "stdout",
     "output_type": "stream",
     "text": [
      "Applied age processing for 53d208b0-2cfd-4366-9866-c3c6114081bc.h5ad\n",
      "Shape after byc_indices for 53d208b0-2cfd-4366-9866-c3c6114081bc.h5ad: (50115, 58604)\n",
      "Shape after filtering primary data for 53d208b0-2cfd-4366-9866-c3c6114081bc.h5ad: (50115, 58604)\n",
      "Saved modified file as /app/project/data/ddqc_test/1.filtered_data/arreglado_53d208b0-2cfd-4366-9866-c3c6114081bc.h5ad\n",
      "Using raw.X for 055ca631-6ffb-40de-815e-b931e10718c0.h5ad\n",
      "Warning: 055ca631-6ffb-40de-815e-b931e10718c0.h5ad - data in adata.X are not integers.\n",
      "First few elements of adata.X after assignment: [1. 1. 1. 1. 1.]\n",
      "Initial shape of 055ca631-6ffb-40de-815e-b931e10718c0.h5ad: (41305, 24955)\n",
      "First few elements of adata.X after assignment: [1. 1. 1. 1. 1.]\n",
      "Shape after filtrar_muestra for 055ca631-6ffb-40de-815e-b931e10718c0.h5ad: (15765, 24955)\n",
      "Applied cell onthology dictionary for 055ca631-6ffb-40de-815e-b931e10718c0.h5ad\n",
      "Applied age processing for 055ca631-6ffb-40de-815e-b931e10718c0.h5ad\n",
      "Shape after byc_indices for 055ca631-6ffb-40de-815e-b931e10718c0.h5ad: (15765, 24955)\n",
      "Shape after filtering primary data for 055ca631-6ffb-40de-815e-b931e10718c0.h5ad: (0, 24955)\n",
      "Warning: 055ca631-6ffb-40de-815e-b931e10718c0.h5ad is empty or has insufficient data.\n"
     ]
    },
    {
     "name": "stderr",
     "output_type": "stream",
     "text": [
      "/tmp/ipykernel_5055/3499296130.py:96: FutureWarning: Setting an item of incompatible dtype is deprecated and will raise an error in a future version of pandas. Value 'edad no especifica' has dtype incompatible with int64, please explicitly cast to a compatible dtype first.\n",
      "  adata.obs.loc[~edades_explicitas, 'años'] = 'edad no especifica'\n"
     ]
    },
    {
     "name": "stdout",
     "output_type": "stream",
     "text": [
      "Using raw.X for 1b9d8702-5af8-4142-85ed-020eb06ec4f6.h5ad\n",
      "Warning: 1b9d8702-5af8-4142-85ed-020eb06ec4f6.h5ad - data in adata.X are not integers.\n",
      "First few elements of adata.X after assignment: [1. 1. 1. 1. 1.]\n",
      "Initial shape of 1b9d8702-5af8-4142-85ed-020eb06ec4f6.h5ad: (329762, 36503)\n",
      "First few elements of adata.X after assignment: [1. 1. 1. 1. 1.]\n",
      "Shape after filtrar_muestra for 1b9d8702-5af8-4142-85ed-020eb06ec4f6.h5ad: (27620, 36503)\n",
      "Applied cell onthology dictionary for 1b9d8702-5af8-4142-85ed-020eb06ec4f6.h5ad\n",
      "Applied age processing for 1b9d8702-5af8-4142-85ed-020eb06ec4f6.h5ad\n",
      "Shape after byc_indices for 1b9d8702-5af8-4142-85ed-020eb06ec4f6.h5ad: (27620, 36503)\n"
     ]
    },
    {
     "name": "stderr",
     "output_type": "stream",
     "text": [
      "/tmp/ipykernel_5055/3499296130.py:96: FutureWarning: Setting an item of incompatible dtype is deprecated and will raise an error in a future version of pandas. Value 'edad no especifica' has dtype incompatible with float64, please explicitly cast to a compatible dtype first.\n",
      "  adata.obs.loc[~edades_explicitas, 'años'] = 'edad no especifica'\n"
     ]
    },
    {
     "name": "stdout",
     "output_type": "stream",
     "text": [
      "Shape after filtering primary data for 1b9d8702-5af8-4142-85ed-020eb06ec4f6.h5ad: (27620, 36503)\n",
      "Saved modified file as /app/project/data/ddqc_test/1.filtered_data/arreglado_1b9d8702-5af8-4142-85ed-020eb06ec4f6.h5ad\n",
      "Using raw.X for 218acb0f-9f2f-4f76-b90b-15a4b7c7f629.h5ad\n",
      "Warning: 218acb0f-9f2f-4f76-b90b-15a4b7c7f629.h5ad - data in adata.X are not integers.\n",
      "First few elements of adata.X after assignment: [2. 2. 7. 1. 2.]\n",
      "Initial shape of 218acb0f-9f2f-4f76-b90b-15a4b7c7f629.h5ad: (1263676, 30933)\n",
      "First few elements of adata.X after assignment: [2. 2. 7. 1. 2.]\n",
      "Shape after filtrar_muestra for 218acb0f-9f2f-4f76-b90b-15a4b7c7f629.h5ad: (486418, 30933)\n",
      "Applied cell onthology dictionary for 218acb0f-9f2f-4f76-b90b-15a4b7c7f629.h5ad\n"
     ]
    },
    {
     "name": "stderr",
     "output_type": "stream",
     "text": [
      "/tmp/ipykernel_5055/3499296130.py:96: FutureWarning: Setting an item of incompatible dtype is deprecated and will raise an error in a future version of pandas. Value 'edad no especifica' has dtype incompatible with int64, please explicitly cast to a compatible dtype first.\n",
      "  adata.obs.loc[~edades_explicitas, 'años'] = 'edad no especifica'\n"
     ]
    },
    {
     "name": "stdout",
     "output_type": "stream",
     "text": [
      "Applied age processing for 218acb0f-9f2f-4f76-b90b-15a4b7c7f629.h5ad\n",
      "Shape after byc_indices for 218acb0f-9f2f-4f76-b90b-15a4b7c7f629.h5ad: (486418, 30933)\n",
      "Shape after filtering primary data for 218acb0f-9f2f-4f76-b90b-15a4b7c7f629.h5ad: (486418, 30933)\n",
      "Saved modified file as /app/project/data/ddqc_test/1.filtered_data/arreglado_218acb0f-9f2f-4f76-b90b-15a4b7c7f629.h5ad\n",
      "Using raw.X for 21d3e683-80a4-4d9b-bc89-ebb2df513dde.h5ad\n",
      "Warning: 21d3e683-80a4-4d9b-bc89-ebb2df513dde.h5ad - data in adata.X are not integers.\n",
      "First few elements of adata.X after assignment: [1. 1. 1. 1. 1.]\n",
      "Initial shape of 21d3e683-80a4-4d9b-bc89-ebb2df513dde.h5ad: (246964, 30761)\n",
      "First few elements of adata.X after assignment: [1. 1. 1. 1. 1.]\n",
      "Shape after filtrar_muestra for 21d3e683-80a4-4d9b-bc89-ebb2df513dde.h5ad: (68159, 30761)\n",
      "Applied cell onthology dictionary for 21d3e683-80a4-4d9b-bc89-ebb2df513dde.h5ad\n"
     ]
    },
    {
     "name": "stderr",
     "output_type": "stream",
     "text": [
      "/tmp/ipykernel_5055/3499296130.py:96: FutureWarning: Setting an item of incompatible dtype is deprecated and will raise an error in a future version of pandas. Value 'edad no especifica' has dtype incompatible with int64, please explicitly cast to a compatible dtype first.\n",
      "  adata.obs.loc[~edades_explicitas, 'años'] = 'edad no especifica'\n"
     ]
    },
    {
     "name": "stdout",
     "output_type": "stream",
     "text": [
      "Applied age processing for 21d3e683-80a4-4d9b-bc89-ebb2df513dde.h5ad\n",
      "Shape after byc_indices for 21d3e683-80a4-4d9b-bc89-ebb2df513dde.h5ad: (68159, 30761)\n",
      "Shape after filtering primary data for 21d3e683-80a4-4d9b-bc89-ebb2df513dde.h5ad: (68159, 30761)\n",
      "Saved modified file as /app/project/data/ddqc_test/1.filtered_data/arreglado_21d3e683-80a4-4d9b-bc89-ebb2df513dde.h5ad\n",
      "Using raw.X for 2a498ace-872a-4935-984b-1afa70fd9886.h5ad\n",
      "Warning: 2a498ace-872a-4935-984b-1afa70fd9886.h5ad - data in adata.X are not integers.\n",
      "First few elements of adata.X after assignment: [ 1.  2.  1. 13.  1.]\n",
      "Initial shape of 2a498ace-872a-4935-984b-1afa70fd9886.h5ad: (422220, 33193)\n",
      "First few elements of adata.X after assignment: [ 1.  2.  1. 13.  1.]\n",
      "Shape after filtrar_muestra for 2a498ace-872a-4935-984b-1afa70fd9886.h5ad: (173684, 33193)\n",
      "Applied cell onthology dictionary for 2a498ace-872a-4935-984b-1afa70fd9886.h5ad\n",
      "Applied age processing for 2a498ace-872a-4935-984b-1afa70fd9886.h5ad\n"
     ]
    },
    {
     "name": "stderr",
     "output_type": "stream",
     "text": [
      "/tmp/ipykernel_5055/3499296130.py:96: FutureWarning: Setting an item of incompatible dtype is deprecated and will raise an error in a future version of pandas. Value 'edad no especifica' has dtype incompatible with float64, please explicitly cast to a compatible dtype first.\n",
      "  adata.obs.loc[~edades_explicitas, 'años'] = 'edad no especifica'\n"
     ]
    },
    {
     "name": "stdout",
     "output_type": "stream",
     "text": [
      "Shape after byc_indices for 2a498ace-872a-4935-984b-1afa70fd9886.h5ad: (173684, 33193)\n",
      "Shape after filtering primary data for 2a498ace-872a-4935-984b-1afa70fd9886.h5ad: (173684, 33193)\n",
      "Saved modified file as /app/project/data/ddqc_test/1.filtered_data/arreglado_2a498ace-872a-4935-984b-1afa70fd9886.h5ad\n",
      "Using raw.X for 2adb1f8a-a6b1-4909-8ee8-484814e2d4bf.h5ad\n",
      "Warning: 2adb1f8a-a6b1-4909-8ee8-484814e2d4bf.h5ad - data in adata.X are not integers.\n",
      "First few elements of adata.X after assignment: [1. 1. 3. 1. 1.]\n",
      "Initial shape of 2adb1f8a-a6b1-4909-8ee8-484814e2d4bf.h5ad: (599926, 26468)\n",
      "First few elements of adata.X after assignment: [1. 1. 3. 1. 1.]\n",
      "Shape after filtrar_muestra for 2adb1f8a-a6b1-4909-8ee8-484814e2d4bf.h5ad: (17331, 26468)\n",
      "Applied cell onthology dictionary for 2adb1f8a-a6b1-4909-8ee8-484814e2d4bf.h5ad\n",
      "Applied age processing for 2adb1f8a-a6b1-4909-8ee8-484814e2d4bf.h5ad\n",
      "Shape after byc_indices for 2adb1f8a-a6b1-4909-8ee8-484814e2d4bf.h5ad: (17331, 26468)\n"
     ]
    },
    {
     "name": "stderr",
     "output_type": "stream",
     "text": [
      "/tmp/ipykernel_5055/3499296130.py:96: FutureWarning: Setting an item of incompatible dtype is deprecated and will raise an error in a future version of pandas. Value 'edad no especifica' has dtype incompatible with int64, please explicitly cast to a compatible dtype first.\n",
      "  adata.obs.loc[~edades_explicitas, 'años'] = 'edad no especifica'\n"
     ]
    },
    {
     "name": "stdout",
     "output_type": "stream",
     "text": [
      "Shape after filtering primary data for 2adb1f8a-a6b1-4909-8ee8-484814e2d4bf.h5ad: (17331, 26468)\n",
      "Saved modified file as /app/project/data/ddqc_test/1.filtered_data/arreglado_2adb1f8a-a6b1-4909-8ee8-484814e2d4bf.h5ad\n",
      "Using raw.X for 30cd5311-6c09-46c9-94f1-71fe4b91813c.h5ad\n",
      "Warning: 30cd5311-6c09-46c9-94f1-71fe4b91813c.h5ad - data in adata.X are not integers.\n",
      "First few elements of adata.X after assignment: [1. 1. 1. 1. 1.]\n",
      "Initial shape of 30cd5311-6c09-46c9-94f1-71fe4b91813c.h5ad: (125117, 30761)\n",
      "First few elements of adata.X after assignment: [1. 1. 1. 1. 1.]\n",
      "Shape after filtrar_muestra for 30cd5311-6c09-46c9-94f1-71fe4b91813c.h5ad: (25965, 30761)\n",
      "Applied cell onthology dictionary for 30cd5311-6c09-46c9-94f1-71fe4b91813c.h5ad\n",
      "Applied age processing for 30cd5311-6c09-46c9-94f1-71fe4b91813c.h5ad\n",
      "Shape after byc_indices for 30cd5311-6c09-46c9-94f1-71fe4b91813c.h5ad: (25965, 30761)\n"
     ]
    },
    {
     "name": "stderr",
     "output_type": "stream",
     "text": [
      "/tmp/ipykernel_5055/3499296130.py:96: FutureWarning: Setting an item of incompatible dtype is deprecated and will raise an error in a future version of pandas. Value 'edad no especifica' has dtype incompatible with int64, please explicitly cast to a compatible dtype first.\n",
      "  adata.obs.loc[~edades_explicitas, 'años'] = 'edad no especifica'\n"
     ]
    },
    {
     "name": "stdout",
     "output_type": "stream",
     "text": [
      "Shape after filtering primary data for 30cd5311-6c09-46c9-94f1-71fe4b91813c.h5ad: (25965, 30761)\n",
      "Saved modified file as /app/project/data/ddqc_test/1.filtered_data/arreglado_30cd5311-6c09-46c9-94f1-71fe4b91813c.h5ad\n",
      "Using raw.X for 3c75a463-6a87-4132-83a8-c3002624394d.h5ad\n",
      "Warning: 3c75a463-6a87-4132-83a8-c3002624394d.h5ad - data in adata.X are not integers.\n",
      "First few elements of adata.X after assignment: [1. 5. 1. 1. 1.]\n",
      "Initial shape of 3c75a463-6a87-4132-83a8-c3002624394d.h5ad: (95064, 21271)\n",
      "First few elements of adata.X after assignment: [1. 5. 1. 1. 1.]\n",
      "Shape after filtrar_muestra for 3c75a463-6a87-4132-83a8-c3002624394d.h5ad: (37972, 21271)\n",
      "Applied cell onthology dictionary for 3c75a463-6a87-4132-83a8-c3002624394d.h5ad\n",
      "Applied age processing for 3c75a463-6a87-4132-83a8-c3002624394d.h5ad\n"
     ]
    },
    {
     "name": "stderr",
     "output_type": "stream",
     "text": [
      "/tmp/ipykernel_5055/3499296130.py:96: FutureWarning: Setting an item of incompatible dtype is deprecated and will raise an error in a future version of pandas. Value 'edad no especifica' has dtype incompatible with int64, please explicitly cast to a compatible dtype first.\n",
      "  adata.obs.loc[~edades_explicitas, 'años'] = 'edad no especifica'\n"
     ]
    },
    {
     "name": "stdout",
     "output_type": "stream",
     "text": [
      "Shape after byc_indices for 3c75a463-6a87-4132-83a8-c3002624394d.h5ad: (37972, 21271)\n",
      "Shape after filtering primary data for 3c75a463-6a87-4132-83a8-c3002624394d.h5ad: (37972, 21271)\n",
      "Saved modified file as /app/project/data/ddqc_test/1.filtered_data/arreglado_3c75a463-6a87-4132-83a8-c3002624394d.h5ad\n",
      "raw.X is missing for 3faad104-2ab8-4434-816d-474d8d2641db.h5ad, checking if .X contains raw counts.\n",
      "Initial shape of 3faad104-2ab8-4434-816d-474d8d2641db.h5ad: (1248980, 36571)\n",
      "First few elements of adata.X after assignment: [1. 5. 1. 1. 1.]\n",
      "Shape after filtrar_muestra for 3faad104-2ab8-4434-816d-474d8d2641db.h5ad: (1248980, 36571)\n",
      "Applied cell onthology dictionary for 3faad104-2ab8-4434-816d-474d8d2641db.h5ad\n"
     ]
    },
    {
     "name": "stderr",
     "output_type": "stream",
     "text": [
      "/tmp/ipykernel_5055/3499296130.py:96: FutureWarning: Setting an item of incompatible dtype is deprecated and will raise an error in a future version of pandas. Value 'edad no especifica' has dtype incompatible with int64, please explicitly cast to a compatible dtype first.\n",
      "  adata.obs.loc[~edades_explicitas, 'años'] = 'edad no especifica'\n"
     ]
    },
    {
     "name": "stdout",
     "output_type": "stream",
     "text": [
      "Applied age processing for 3faad104-2ab8-4434-816d-474d8d2641db.h5ad\n",
      "Shape after byc_indices for 3faad104-2ab8-4434-816d-474d8d2641db.h5ad: (1248980, 36571)\n",
      "Shape after filtering primary data for 3faad104-2ab8-4434-816d-474d8d2641db.h5ad: (1248980, 36571)\n",
      "Saved modified file as /app/project/data/ddqc_test/1.filtered_data/arreglado_3faad104-2ab8-4434-816d-474d8d2641db.h5ad\n",
      "Using raw.X for 456e8b9b-f872-488b-871d-94534090a865.h5ad\n",
      "Warning: 456e8b9b-f872-488b-871d-94534090a865.h5ad - data in adata.X are not integers.\n",
      "First few elements of adata.X after assignment: [1. 3. 1. 1. 1.]\n",
      "Initial shape of 456e8b9b-f872-488b-871d-94534090a865.h5ad: (44721, 24869)\n",
      "First few elements of adata.X after assignment: [1. 3. 1. 1. 1.]\n",
      "Shape after filtrar_muestra for 456e8b9b-f872-488b-871d-94534090a865.h5ad: (16627, 24869)\n",
      "Applied cell onthology dictionary for 456e8b9b-f872-488b-871d-94534090a865.h5ad\n",
      "Applied age processing for 456e8b9b-f872-488b-871d-94534090a865.h5ad\n",
      "Shape after byc_indices for 456e8b9b-f872-488b-871d-94534090a865.h5ad: (16627, 24869)\n"
     ]
    },
    {
     "name": "stderr",
     "output_type": "stream",
     "text": [
      "/tmp/ipykernel_5055/3499296130.py:96: FutureWarning: Setting an item of incompatible dtype is deprecated and will raise an error in a future version of pandas. Value 'edad no especifica' has dtype incompatible with int64, please explicitly cast to a compatible dtype first.\n",
      "  adata.obs.loc[~edades_explicitas, 'años'] = 'edad no especifica'\n"
     ]
    },
    {
     "name": "stdout",
     "output_type": "stream",
     "text": [
      "Shape after filtering primary data for 456e8b9b-f872-488b-871d-94534090a865.h5ad: (16627, 24869)\n",
      "Saved modified file as /app/project/data/ddqc_test/1.filtered_data/arreglado_456e8b9b-f872-488b-871d-94534090a865.h5ad\n",
      "Using raw.X for 4c4cd77c-8fee-4836-9145-16562a8782fe.h5ad\n",
      "Warning: 4c4cd77c-8fee-4836-9145-16562a8782fe.h5ad - data in adata.X are not integers.\n",
      "First few elements of adata.X after assignment: [1. 1. 1. 1. 1.]\n",
      "Initial shape of 4c4cd77c-8fee-4836-9145-16562a8782fe.h5ad: (43512, 22011)\n",
      "First few elements of adata.X after assignment: [1. 1. 1. 1. 1.]\n",
      "Shape after filtrar_muestra for 4c4cd77c-8fee-4836-9145-16562a8782fe.h5ad: (16298, 22011)\n",
      "Applied cell onthology dictionary for 4c4cd77c-8fee-4836-9145-16562a8782fe.h5ad\n",
      "Applied age processing for 4c4cd77c-8fee-4836-9145-16562a8782fe.h5ad\n",
      "Shape after byc_indices for 4c4cd77c-8fee-4836-9145-16562a8782fe.h5ad: (16298, 22011)\n",
      "Shape after filtering primary data for 4c4cd77c-8fee-4836-9145-16562a8782fe.h5ad: (0, 22011)\n",
      "Warning: 4c4cd77c-8fee-4836-9145-16562a8782fe.h5ad is empty or has insufficient data.\n"
     ]
    },
    {
     "name": "stderr",
     "output_type": "stream",
     "text": [
      "/tmp/ipykernel_5055/3499296130.py:96: FutureWarning: Setting an item of incompatible dtype is deprecated and will raise an error in a future version of pandas. Value 'edad no especifica' has dtype incompatible with int64, please explicitly cast to a compatible dtype first.\n",
      "  adata.obs.loc[~edades_explicitas, 'años'] = 'edad no especifica'\n"
     ]
    },
    {
     "name": "stdout",
     "output_type": "stream",
     "text": [
      "Using raw.X for 59b69042-47c2-47fd-ad03-d21beb99818f.h5ad\n",
      "Warning: 59b69042-47c2-47fd-ad03-d21beb99818f.h5ad - data in adata.X are not integers.\n",
      "First few elements of adata.X after assignment: [ 1. 27.  2.  2.  2.]\n",
      "Initial shape of 59b69042-47c2-47fd-ad03-d21beb99818f.h5ad: (49139, 22878)\n",
      "First few elements of adata.X after assignment: [ 1. 27.  2.  2.  2.]\n",
      "Shape after filtrar_muestra for 59b69042-47c2-47fd-ad03-d21beb99818f.h5ad: (25954, 22878)\n",
      "Applied cell onthology dictionary for 59b69042-47c2-47fd-ad03-d21beb99818f.h5ad\n",
      "Applied age processing for 59b69042-47c2-47fd-ad03-d21beb99818f.h5ad\n",
      "Shape after byc_indices for 59b69042-47c2-47fd-ad03-d21beb99818f.h5ad: (25954, 22878)\n"
     ]
    },
    {
     "name": "stderr",
     "output_type": "stream",
     "text": [
      "/tmp/ipykernel_5055/3499296130.py:96: FutureWarning: Setting an item of incompatible dtype is deprecated and will raise an error in a future version of pandas. Value 'edad no especifica' has dtype incompatible with float64, please explicitly cast to a compatible dtype first.\n",
      "  adata.obs.loc[~edades_explicitas, 'años'] = 'edad no especifica'\n"
     ]
    },
    {
     "name": "stdout",
     "output_type": "stream",
     "text": [
      "Shape after filtering primary data for 59b69042-47c2-47fd-ad03-d21beb99818f.h5ad: (25954, 22878)\n",
      "Saved modified file as /app/project/data/ddqc_test/1.filtered_data/arreglado_59b69042-47c2-47fd-ad03-d21beb99818f.h5ad\n",
      "Using raw.X for 71be997d-ff75-41b9-8a9f-1288c865f921.h5ad\n",
      "Warning: 71be997d-ff75-41b9-8a9f-1288c865f921.h5ad - data in adata.X are not integers.\n",
      "First few elements of adata.X after assignment: [1. 2. 1. 1. 1.]\n",
      "Initial shape of 71be997d-ff75-41b9-8a9f-1288c865f921.h5ad: (54934, 36503)\n",
      "First few elements of adata.X after assignment: [1. 2. 1. 1. 1.]\n",
      "Shape after filtrar_muestra for 71be997d-ff75-41b9-8a9f-1288c865f921.h5ad: (549, 36503)\n",
      "Applied cell onthology dictionary for 71be997d-ff75-41b9-8a9f-1288c865f921.h5ad\n",
      "Applied age processing for 71be997d-ff75-41b9-8a9f-1288c865f921.h5ad\n",
      "Shape after byc_indices for 71be997d-ff75-41b9-8a9f-1288c865f921.h5ad: (549, 36503)\n",
      "Shape after filtering primary data for 71be997d-ff75-41b9-8a9f-1288c865f921.h5ad: (0, 36503)\n",
      "Warning: 71be997d-ff75-41b9-8a9f-1288c865f921.h5ad is empty or has insufficient data.\n"
     ]
    },
    {
     "name": "stderr",
     "output_type": "stream",
     "text": [
      "/tmp/ipykernel_5055/3499296130.py:96: FutureWarning: Setting an item of incompatible dtype is deprecated and will raise an error in a future version of pandas. Value 'edad no especifica' has dtype incompatible with float64, please explicitly cast to a compatible dtype first.\n",
      "  adata.obs.loc[~edades_explicitas, 'años'] = 'edad no especifica'\n"
     ]
    },
    {
     "name": "stdout",
     "output_type": "stream",
     "text": [
      "Using raw.X for 8c42cfd0-0b0a-46d5-910c-fc833d83c45e.h5ad\n",
      "Warning: 8c42cfd0-0b0a-46d5-910c-fc833d83c45e.h5ad - data in adata.X are not integers.\n",
      "First few elements of adata.X after assignment: [3. 1. 1. 3. 3.]\n",
      "Initial shape of 8c42cfd0-0b0a-46d5-910c-fc833d83c45e.h5ad: (65662, 24857)\n",
      "First few elements of adata.X after assignment: [3. 1. 1. 3. 3.]\n",
      "Shape after filtrar_muestra for 8c42cfd0-0b0a-46d5-910c-fc833d83c45e.h5ad: (4669, 24857)\n",
      "Applied cell onthology dictionary for 8c42cfd0-0b0a-46d5-910c-fc833d83c45e.h5ad\n",
      "Applied age processing for 8c42cfd0-0b0a-46d5-910c-fc833d83c45e.h5ad\n",
      "Shape after byc_indices for 8c42cfd0-0b0a-46d5-910c-fc833d83c45e.h5ad: (4669, 24857)\n",
      "Shape after filtering primary data for 8c42cfd0-0b0a-46d5-910c-fc833d83c45e.h5ad: (4669, 24857)\n"
     ]
    },
    {
     "name": "stderr",
     "output_type": "stream",
     "text": [
      "/tmp/ipykernel_5055/3499296130.py:96: FutureWarning: Setting an item of incompatible dtype is deprecated and will raise an error in a future version of pandas. Value 'edad no especifica' has dtype incompatible with int64, please explicitly cast to a compatible dtype first.\n",
      "  adata.obs.loc[~edades_explicitas, 'años'] = 'edad no especifica'\n"
     ]
    },
    {
     "name": "stdout",
     "output_type": "stream",
     "text": [
      "Saved modified file as /app/project/data/ddqc_test/1.filtered_data/arreglado_8c42cfd0-0b0a-46d5-910c-fc833d83c45e.h5ad\n",
      "Using raw.X for 96a3f64b-0ee9-40d8-91e9-813ce38261c9.h5ad\n",
      "Warning: 96a3f64b-0ee9-40d8-91e9-813ce38261c9.h5ad - data in adata.X are not integers.\n",
      "First few elements of adata.X after assignment: [1. 1. 2. 3. 4.]\n",
      "Initial shape of 96a3f64b-0ee9-40d8-91e9-813ce38261c9.h5ad: (239696, 23636)\n",
      "First few elements of adata.X after assignment: [1. 1. 2. 3. 4.]\n",
      "Shape after filtrar_muestra for 96a3f64b-0ee9-40d8-91e9-813ce38261c9.h5ad: (74294, 23636)\n",
      "Applied cell onthology dictionary for 96a3f64b-0ee9-40d8-91e9-813ce38261c9.h5ad\n"
     ]
    },
    {
     "name": "stderr",
     "output_type": "stream",
     "text": [
      "/tmp/ipykernel_5055/3499296130.py:96: FutureWarning: Setting an item of incompatible dtype is deprecated and will raise an error in a future version of pandas. Value 'edad no especifica' has dtype incompatible with float64, please explicitly cast to a compatible dtype first.\n",
      "  adata.obs.loc[~edades_explicitas, 'años'] = 'edad no especifica'\n"
     ]
    },
    {
     "name": "stdout",
     "output_type": "stream",
     "text": [
      "Applied age processing for 96a3f64b-0ee9-40d8-91e9-813ce38261c9.h5ad\n",
      "Shape after byc_indices for 96a3f64b-0ee9-40d8-91e9-813ce38261c9.h5ad: (74294, 23636)\n",
      "Shape after filtering primary data for 96a3f64b-0ee9-40d8-91e9-813ce38261c9.h5ad: (0, 23636)\n",
      "Warning: 96a3f64b-0ee9-40d8-91e9-813ce38261c9.h5ad is empty or has insufficient data.\n",
      "Using raw.X for 983d5ec9-40e8-4512-9e65-a572a9c486cb.h5ad\n",
      "Warning: 983d5ec9-40e8-4512-9e65-a572a9c486cb.h5ad - data in adata.X are not integers.\n",
      "First few elements of adata.X after assignment: [2. 1. 1. 1. 1.]\n",
      "Initial shape of 983d5ec9-40e8-4512-9e65-a572a9c486cb.h5ad: (50115, 58604)\n",
      "First few elements of adata.X after assignment: [2. 1. 1. 1. 1.]\n",
      "Shape after filtrar_muestra for 983d5ec9-40e8-4512-9e65-a572a9c486cb.h5ad: (50115, 58604)\n",
      "Applied cell onthology dictionary for 983d5ec9-40e8-4512-9e65-a572a9c486cb.h5ad\n",
      "Applied age processing for 983d5ec9-40e8-4512-9e65-a572a9c486cb.h5ad\n"
     ]
    },
    {
     "name": "stderr",
     "output_type": "stream",
     "text": [
      "/tmp/ipykernel_5055/3499296130.py:96: FutureWarning: Setting an item of incompatible dtype is deprecated and will raise an error in a future version of pandas. Value 'edad no especifica' has dtype incompatible with int64, please explicitly cast to a compatible dtype first.\n",
      "  adata.obs.loc[~edades_explicitas, 'años'] = 'edad no especifica'\n"
     ]
    },
    {
     "name": "stdout",
     "output_type": "stream",
     "text": [
      "Shape after byc_indices for 983d5ec9-40e8-4512-9e65-a572a9c486cb.h5ad: (50115, 58604)\n",
      "Shape after filtering primary data for 983d5ec9-40e8-4512-9e65-a572a9c486cb.h5ad: (0, 58604)\n",
      "Warning: 983d5ec9-40e8-4512-9e65-a572a9c486cb.h5ad is empty or has insufficient data.\n",
      "Using raw.X for 9dbab10c-118d-496b-966a-67f1763a6b7d.h5ad\n",
      "Warning: 9dbab10c-118d-496b-966a-67f1763a6b7d.h5ad - data in adata.X are not integers.\n",
      "First few elements of adata.X after assignment: [ 1.  1. 10.  1.  2.]\n",
      "Initial shape of 9dbab10c-118d-496b-966a-67f1763a6b7d.h5ad: (1462702, 27714)\n",
      "First few elements of adata.X after assignment: [ 1.  1. 10.  1.  2.]\n",
      "Shape after filtrar_muestra for 9dbab10c-118d-496b-966a-67f1763a6b7d.h5ad: (165000, 27714)\n",
      "Applied cell onthology dictionary for 9dbab10c-118d-496b-966a-67f1763a6b7d.h5ad\n"
     ]
    },
    {
     "name": "stderr",
     "output_type": "stream",
     "text": [
      "/tmp/ipykernel_5055/3499296130.py:96: FutureWarning: Setting an item of incompatible dtype is deprecated and will raise an error in a future version of pandas. Value 'edad no especifica' has dtype incompatible with int64, please explicitly cast to a compatible dtype first.\n",
      "  adata.obs.loc[~edades_explicitas, 'años'] = 'edad no especifica'\n"
     ]
    },
    {
     "name": "stdout",
     "output_type": "stream",
     "text": [
      "Applied age processing for 9dbab10c-118d-496b-966a-67f1763a6b7d.h5ad\n",
      "Shape after byc_indices for 9dbab10c-118d-496b-966a-67f1763a6b7d.h5ad: (165000, 27714)\n",
      "Shape after filtering primary data for 9dbab10c-118d-496b-966a-67f1763a6b7d.h5ad: (165000, 27714)\n",
      "Saved modified file as /app/project/data/ddqc_test/1.filtered_data/arreglado_9dbab10c-118d-496b-966a-67f1763a6b7d.h5ad\n",
      "raw.X is missing for a5d95a42-0137-496f-8a60-101e17f263c8.h5ad, checking if .X contains raw counts.\n",
      "Initial shape of a5d95a42-0137-496f-8a60-101e17f263c8.h5ad: (1324, 19181)\n",
      "First few elements of adata.X after assignment: [ 1.  1. 10.  1.  2.]\n",
      "Shape after filtrar_muestra for a5d95a42-0137-496f-8a60-101e17f263c8.h5ad: (646, 19181)\n",
      "Applied cell onthology dictionary for a5d95a42-0137-496f-8a60-101e17f263c8.h5ad\n",
      "Applied age processing for a5d95a42-0137-496f-8a60-101e17f263c8.h5ad\n",
      "Shape after byc_indices for a5d95a42-0137-496f-8a60-101e17f263c8.h5ad: (646, 19181)\n",
      "Shape after filtering primary data for a5d95a42-0137-496f-8a60-101e17f263c8.h5ad: (646, 19181)\n"
     ]
    },
    {
     "name": "stderr",
     "output_type": "stream",
     "text": [
      "/tmp/ipykernel_5055/3499296130.py:96: FutureWarning: Setting an item of incompatible dtype is deprecated and will raise an error in a future version of pandas. Value 'edad no especifica' has dtype incompatible with int64, please explicitly cast to a compatible dtype first.\n",
      "  adata.obs.loc[~edades_explicitas, 'años'] = 'edad no especifica'\n"
     ]
    },
    {
     "name": "stdout",
     "output_type": "stream",
     "text": [
      "Saved modified file as /app/project/data/ddqc_test/1.filtered_data/arreglado_a5d95a42-0137-496f-8a60-101e17f263c8.h5ad\n",
      "Using raw.X for ae29ebd0-1973-40a4-a6af-d15a5f77a80f.h5ad\n",
      "Warning: ae29ebd0-1973-40a4-a6af-d15a5f77a80f.h5ad - data in adata.X are not integers.\n",
      "First few elements of adata.X after assignment: [1. 1. 1. 1. 1.]\n",
      "Initial shape of ae29ebd0-1973-40a4-a6af-d15a5f77a80f.h5ad: (216611, 36503)\n",
      "First few elements of adata.X after assignment: [1. 1. 1. 1. 1.]\n",
      "Shape after filtrar_muestra for ae29ebd0-1973-40a4-a6af-d15a5f77a80f.h5ad: (20333, 36503)\n",
      "Applied cell onthology dictionary for ae29ebd0-1973-40a4-a6af-d15a5f77a80f.h5ad\n",
      "Applied age processing for ae29ebd0-1973-40a4-a6af-d15a5f77a80f.h5ad\n",
      "Shape after byc_indices for ae29ebd0-1973-40a4-a6af-d15a5f77a80f.h5ad: (20333, 36503)\n",
      "Shape after filtering primary data for ae29ebd0-1973-40a4-a6af-d15a5f77a80f.h5ad: (0, 36503)\n",
      "Warning: ae29ebd0-1973-40a4-a6af-d15a5f77a80f.h5ad is empty or has insufficient data.\n"
     ]
    },
    {
     "name": "stderr",
     "output_type": "stream",
     "text": [
      "/tmp/ipykernel_5055/3499296130.py:96: FutureWarning: Setting an item of incompatible dtype is deprecated and will raise an error in a future version of pandas. Value 'edad no especifica' has dtype incompatible with float64, please explicitly cast to a compatible dtype first.\n",
      "  adata.obs.loc[~edades_explicitas, 'años'] = 'edad no especifica'\n"
     ]
    },
    {
     "name": "stdout",
     "output_type": "stream",
     "text": [
      "Using raw.X for b0e547f0-462b-4f81-b31b-5b0a5d96f537.h5ad\n",
      "Warning: b0e547f0-462b-4f81-b31b-5b0a5d96f537.h5ad - data in adata.X are not integers.\n",
      "First few elements of adata.X after assignment: [2. 2. 1. 2. 2.]\n",
      "Initial shape of b0e547f0-462b-4f81-b31b-5b0a5d96f537.h5ad: (1058909, 36266)\n",
      "First few elements of adata.X after assignment: [2. 2. 1. 2. 2.]\n",
      "Shape after filtrar_muestra for b0e547f0-462b-4f81-b31b-5b0a5d96f537.h5ad: (1058909, 36266)\n",
      "Applied cell onthology dictionary for b0e547f0-462b-4f81-b31b-5b0a5d96f537.h5ad\n"
     ]
    },
    {
     "name": "stderr",
     "output_type": "stream",
     "text": [
      "/tmp/ipykernel_5055/3499296130.py:96: FutureWarning: Setting an item of incompatible dtype is deprecated and will raise an error in a future version of pandas. Value 'edad no especifica' has dtype incompatible with int64, please explicitly cast to a compatible dtype first.\n",
      "  adata.obs.loc[~edades_explicitas, 'años'] = 'edad no especifica'\n"
     ]
    },
    {
     "name": "stdout",
     "output_type": "stream",
     "text": [
      "Applied age processing for b0e547f0-462b-4f81-b31b-5b0a5d96f537.h5ad\n",
      "Shape after byc_indices for b0e547f0-462b-4f81-b31b-5b0a5d96f537.h5ad: (1058909, 36266)\n",
      "Shape after filtering primary data for b0e547f0-462b-4f81-b31b-5b0a5d96f537.h5ad: (1058909, 36266)\n",
      "Saved modified file as /app/project/data/ddqc_test/1.filtered_data/arreglado_b0e547f0-462b-4f81-b31b-5b0a5d96f537.h5ad\n",
      "Using raw.X for bc2a7b3d-f04e-477e-96c9-9d5367d5425c.h5ad\n",
      "Warning: bc2a7b3d-f04e-477e-96c9-9d5367d5425c.h5ad - data in adata.X are not integers.\n",
      "First few elements of adata.X after assignment: [1. 1. 2. 1. 1.]\n",
      "Initial shape of bc2a7b3d-f04e-477e-96c9-9d5367d5425c.h5ad: (109995, 23636)\n",
      "First few elements of adata.X after assignment: [1. 1. 2. 1. 1.]\n",
      "Shape after filtrar_muestra for bc2a7b3d-f04e-477e-96c9-9d5367d5425c.h5ad: (41984, 23636)\n",
      "Applied cell onthology dictionary for bc2a7b3d-f04e-477e-96c9-9d5367d5425c.h5ad\n",
      "Applied age processing for bc2a7b3d-f04e-477e-96c9-9d5367d5425c.h5ad\n"
     ]
    },
    {
     "name": "stderr",
     "output_type": "stream",
     "text": [
      "/tmp/ipykernel_5055/3499296130.py:96: FutureWarning: Setting an item of incompatible dtype is deprecated and will raise an error in a future version of pandas. Value 'edad no especifica' has dtype incompatible with float64, please explicitly cast to a compatible dtype first.\n",
      "  adata.obs.loc[~edades_explicitas, 'años'] = 'edad no especifica'\n"
     ]
    },
    {
     "name": "stdout",
     "output_type": "stream",
     "text": [
      "Shape after byc_indices for bc2a7b3d-f04e-477e-96c9-9d5367d5425c.h5ad: (41984, 23636)\n",
      "Shape after filtering primary data for bc2a7b3d-f04e-477e-96c9-9d5367d5425c.h5ad: (0, 23636)\n",
      "Warning: bc2a7b3d-f04e-477e-96c9-9d5367d5425c.h5ad is empty or has insufficient data.\n",
      "Using raw.X for c5d88abe-f23a-45fa-a534-788985e93dad.h5ad\n",
      "Warning: c5d88abe-f23a-45fa-a534-788985e93dad.h5ad - data in adata.X are not integers.\n",
      "First few elements of adata.X after assignment: [9. 2. 1. 1. 3.]\n",
      "Initial shape of c5d88abe-f23a-45fa-a534-788985e93dad.h5ad: (264824, 58604)\n",
      "First few elements of adata.X after assignment: [9. 2. 1. 1. 3.]\n",
      "Shape after filtrar_muestra for c5d88abe-f23a-45fa-a534-788985e93dad.h5ad: (50115, 58604)\n",
      "Applied cell onthology dictionary for c5d88abe-f23a-45fa-a534-788985e93dad.h5ad\n"
     ]
    },
    {
     "name": "stderr",
     "output_type": "stream",
     "text": [
      "/tmp/ipykernel_5055/3499296130.py:96: FutureWarning: Setting an item of incompatible dtype is deprecated and will raise an error in a future version of pandas. Value 'edad no especifica' has dtype incompatible with int64, please explicitly cast to a compatible dtype first.\n",
      "  adata.obs.loc[~edades_explicitas, 'años'] = 'edad no especifica'\n"
     ]
    },
    {
     "name": "stdout",
     "output_type": "stream",
     "text": [
      "Applied age processing for c5d88abe-f23a-45fa-a534-788985e93dad.h5ad\n",
      "Shape after byc_indices for c5d88abe-f23a-45fa-a534-788985e93dad.h5ad: (50115, 58604)\n",
      "Shape after filtering primary data for c5d88abe-f23a-45fa-a534-788985e93dad.h5ad: (0, 58604)\n",
      "Warning: c5d88abe-f23a-45fa-a534-788985e93dad.h5ad is empty or has insufficient data.\n",
      "Using raw.X for c7775e88-49bf-4ba2-a03b-93f00447c958.h5ad\n",
      "Warning: c7775e88-49bf-4ba2-a03b-93f00447c958.h5ad - data in adata.X are not integers.\n",
      "First few elements of adata.X after assignment: [1. 1. 1. 1. 1.]\n",
      "Initial shape of c7775e88-49bf-4ba2-a03b-93f00447c958.h5ad: (647366, 24727)\n",
      "First few elements of adata.X after assignment: [1. 1. 1. 1. 1.]\n",
      "Shape after filtrar_muestra for c7775e88-49bf-4ba2-a03b-93f00447c958.h5ad: (104923, 24727)\n",
      "Applied cell onthology dictionary for c7775e88-49bf-4ba2-a03b-93f00447c958.h5ad\n",
      "Applied age processing for c7775e88-49bf-4ba2-a03b-93f00447c958.h5ad\n"
     ]
    },
    {
     "name": "stderr",
     "output_type": "stream",
     "text": [
      "/tmp/ipykernel_5055/3499296130.py:96: FutureWarning: Setting an item of incompatible dtype is deprecated and will raise an error in a future version of pandas. Value 'edad no especifica' has dtype incompatible with float64, please explicitly cast to a compatible dtype first.\n",
      "  adata.obs.loc[~edades_explicitas, 'años'] = 'edad no especifica'\n"
     ]
    },
    {
     "name": "stdout",
     "output_type": "stream",
     "text": [
      "Shape after byc_indices for c7775e88-49bf-4ba2-a03b-93f00447c958.h5ad: (104923, 24727)\n",
      "Shape after filtering primary data for c7775e88-49bf-4ba2-a03b-93f00447c958.h5ad: (104923, 24727)\n",
      "Saved modified file as /app/project/data/ddqc_test/1.filtered_data/arreglado_c7775e88-49bf-4ba2-a03b-93f00447c958.h5ad\n",
      "Using raw.X for d3566d6a-a455-4a15-980f-45eb29114cab.h5ad\n",
      "Warning: d3566d6a-a455-4a15-980f-45eb29114cab.h5ad - data in adata.X are not integers.\n",
      "First few elements of adata.X after assignment: [15.  1.  6.  1.  5.]\n",
      "Initial shape of d3566d6a-a455-4a15-980f-45eb29114cab.h5ad: (15502, 460)\n",
      "First few elements of adata.X after assignment: [15.  1.  6.  1.  5.]\n",
      "Shape after filtrar_muestra for d3566d6a-a455-4a15-980f-45eb29114cab.h5ad: (7145, 460)\n",
      "Applied cell onthology dictionary for d3566d6a-a455-4a15-980f-45eb29114cab.h5ad\n",
      "Applied age processing for d3566d6a-a455-4a15-980f-45eb29114cab.h5ad\n",
      "Shape after byc_indices for d3566d6a-a455-4a15-980f-45eb29114cab.h5ad: (7145, 460)\n",
      "Shape after filtering primary data for d3566d6a-a455-4a15-980f-45eb29114cab.h5ad: (7145, 460)\n"
     ]
    },
    {
     "name": "stderr",
     "output_type": "stream",
     "text": [
      "/tmp/ipykernel_5055/3499296130.py:96: FutureWarning: Setting an item of incompatible dtype is deprecated and will raise an error in a future version of pandas. Value 'edad no especifica' has dtype incompatible with int64, please explicitly cast to a compatible dtype first.\n",
      "  adata.obs.loc[~edades_explicitas, 'años'] = 'edad no especifica'\n"
     ]
    },
    {
     "name": "stdout",
     "output_type": "stream",
     "text": [
      "Saved modified file as /app/project/data/ddqc_test/1.filtered_data/arreglado_d3566d6a-a455-4a15-980f-45eb29114cab.h5ad\n",
      "Using raw.X for d7d7e89c-c93a-422d-8958-9b4a90b69558.h5ad\n",
      "Warning: d7d7e89c-c93a-422d-8958-9b4a90b69558.h5ad - data in adata.X are not integers.\n",
      "First few elements of adata.X after assignment: [1. 1. 1. 1. 4.]\n",
      "Initial shape of d7d7e89c-c93a-422d-8958-9b4a90b69558.h5ad: (16901, 17788)\n",
      "First few elements of adata.X after assignment: [1. 1. 1. 1. 4.]\n",
      "Shape after filtrar_muestra for d7d7e89c-c93a-422d-8958-9b4a90b69558.h5ad: (9912, 17788)\n",
      "Applied cell onthology dictionary for d7d7e89c-c93a-422d-8958-9b4a90b69558.h5ad\n"
     ]
    },
    {
     "name": "stderr",
     "output_type": "stream",
     "text": [
      "/tmp/ipykernel_5055/3499296130.py:96: FutureWarning: Setting an item of incompatible dtype is deprecated and will raise an error in a future version of pandas. Value 'edad no especifica' has dtype incompatible with int64, please explicitly cast to a compatible dtype first.\n",
      "  adata.obs.loc[~edades_explicitas, 'años'] = 'edad no especifica'\n"
     ]
    },
    {
     "name": "stdout",
     "output_type": "stream",
     "text": [
      "Applied age processing for d7d7e89c-c93a-422d-8958-9b4a90b69558.h5ad\n",
      "Shape after byc_indices for d7d7e89c-c93a-422d-8958-9b4a90b69558.h5ad: (9912, 17788)\n",
      "Shape after filtering primary data for d7d7e89c-c93a-422d-8958-9b4a90b69558.h5ad: (9912, 17788)\n",
      "Saved modified file as /app/project/data/ddqc_test/1.filtered_data/arreglado_d7d7e89c-c93a-422d-8958-9b4a90b69558.h5ad\n",
      "Using raw.X for d9b4bc69-ed90-4f5f-99b2-61b0681ba436.h5ad\n",
      "Warning: d9b4bc69-ed90-4f5f-99b2-61b0681ba436.h5ad - data in adata.X are not integers.\n",
      "First few elements of adata.X after assignment: [1. 1. 2. 3. 4.]\n",
      "Initial shape of d9b4bc69-ed90-4f5f-99b2-61b0681ba436.h5ad: (20000, 23636)\n",
      "First few elements of adata.X after assignment: [1. 1. 2. 3. 4.]\n",
      "Shape after filtrar_muestra for d9b4bc69-ed90-4f5f-99b2-61b0681ba436.h5ad: (6105, 23636)\n",
      "Applied cell onthology dictionary for d9b4bc69-ed90-4f5f-99b2-61b0681ba436.h5ad\n",
      "Applied age processing for d9b4bc69-ed90-4f5f-99b2-61b0681ba436.h5ad\n"
     ]
    },
    {
     "name": "stderr",
     "output_type": "stream",
     "text": [
      "/tmp/ipykernel_5055/3499296130.py:96: FutureWarning: Setting an item of incompatible dtype is deprecated and will raise an error in a future version of pandas. Value 'edad no especifica' has dtype incompatible with float64, please explicitly cast to a compatible dtype first.\n",
      "  adata.obs.loc[~edades_explicitas, 'años'] = 'edad no especifica'\n"
     ]
    },
    {
     "name": "stdout",
     "output_type": "stream",
     "text": [
      "Shape after byc_indices for d9b4bc69-ed90-4f5f-99b2-61b0681ba436.h5ad: (6105, 23636)\n",
      "Shape after filtering primary data for d9b4bc69-ed90-4f5f-99b2-61b0681ba436.h5ad: (0, 23636)\n",
      "Warning: d9b4bc69-ed90-4f5f-99b2-61b0681ba436.h5ad is empty or has insufficient data.\n",
      "Using raw.X for db0752b9-f20e-40b8-8997-992f3ae0bb2e.h5ad\n",
      "Warning: db0752b9-f20e-40b8-8997-992f3ae0bb2e.h5ad - data in adata.X are not integers.\n",
      "First few elements of adata.X after assignment: [1. 1. 1. 2. 1.]\n",
      "Initial shape of db0752b9-f20e-40b8-8997-992f3ae0bb2e.h5ad: (55348, 23636)\n",
      "First few elements of adata.X after assignment: [1. 1. 1. 2. 1.]\n",
      "Shape after filtrar_muestra for db0752b9-f20e-40b8-8997-992f3ae0bb2e.h5ad: (13813, 23636)\n",
      "Applied cell onthology dictionary for db0752b9-f20e-40b8-8997-992f3ae0bb2e.h5ad\n"
     ]
    },
    {
     "name": "stderr",
     "output_type": "stream",
     "text": [
      "/tmp/ipykernel_5055/3499296130.py:96: FutureWarning: Setting an item of incompatible dtype is deprecated and will raise an error in a future version of pandas. Value 'edad no especifica' has dtype incompatible with float64, please explicitly cast to a compatible dtype first.\n",
      "  adata.obs.loc[~edades_explicitas, 'años'] = 'edad no especifica'\n"
     ]
    },
    {
     "name": "stdout",
     "output_type": "stream",
     "text": [
      "Applied age processing for db0752b9-f20e-40b8-8997-992f3ae0bb2e.h5ad\n",
      "Shape after byc_indices for db0752b9-f20e-40b8-8997-992f3ae0bb2e.h5ad: (13813, 23636)\n",
      "Shape after filtering primary data for db0752b9-f20e-40b8-8997-992f3ae0bb2e.h5ad: (0, 23636)\n",
      "Warning: db0752b9-f20e-40b8-8997-992f3ae0bb2e.h5ad is empty or has insufficient data.\n",
      "raw.X is missing for de2c780c-1747-40bd-9ccf-9588ec186cee.h5ad, checking if .X contains raw counts.\n",
      "Initial shape of de2c780c-1747-40bd-9ccf-9588ec186cee.h5ad: (59572, 33234)\n",
      "First few elements of adata.X after assignment: [1. 1. 1. 2. 1.]\n",
      "Shape after filtrar_muestra for de2c780c-1747-40bd-9ccf-9588ec186cee.h5ad: (17590, 33234)\n",
      "Applied cell onthology dictionary for de2c780c-1747-40bd-9ccf-9588ec186cee.h5ad\n",
      "Applied age processing for de2c780c-1747-40bd-9ccf-9588ec186cee.h5ad\n",
      "Shape after byc_indices for de2c780c-1747-40bd-9ccf-9588ec186cee.h5ad: (17590, 33234)\n"
     ]
    },
    {
     "name": "stderr",
     "output_type": "stream",
     "text": [
      "/tmp/ipykernel_5055/3499296130.py:96: FutureWarning: Setting an item of incompatible dtype is deprecated and will raise an error in a future version of pandas. Value 'edad no especifica' has dtype incompatible with int64, please explicitly cast to a compatible dtype first.\n",
      "  adata.obs.loc[~edades_explicitas, 'años'] = 'edad no especifica'\n"
     ]
    },
    {
     "name": "stdout",
     "output_type": "stream",
     "text": [
      "Shape after filtering primary data for de2c780c-1747-40bd-9ccf-9588ec186cee.h5ad: (17590, 33234)\n",
      "Saved modified file as /app/project/data/ddqc_test/1.filtered_data/arreglado_de2c780c-1747-40bd-9ccf-9588ec186cee.h5ad\n",
      "Using raw.X for e04daea4-4412-45b5-989e-76a9be070a89.h5ad\n",
      "Warning: e04daea4-4412-45b5-989e-76a9be070a89.h5ad - data in adata.X are not integers.\n",
      "First few elements of adata.X after assignment: [317.  68.   9.   1.  94.]\n",
      "Initial shape of e04daea4-4412-45b5-989e-76a9be070a89.h5ad: (9409, 54535)\n",
      "First few elements of adata.X after assignment: [317.  68.   9.   1.  94.]\n",
      "Shape after filtrar_muestra for e04daea4-4412-45b5-989e-76a9be070a89.h5ad: (752, 54535)\n",
      "Applied cell onthology dictionary for e04daea4-4412-45b5-989e-76a9be070a89.h5ad\n",
      "Applied age processing for e04daea4-4412-45b5-989e-76a9be070a89.h5ad\n",
      "Shape after byc_indices for e04daea4-4412-45b5-989e-76a9be070a89.h5ad: (752, 54535)\n",
      "Shape after filtering primary data for e04daea4-4412-45b5-989e-76a9be070a89.h5ad: (752, 54535)\n"
     ]
    },
    {
     "name": "stderr",
     "output_type": "stream",
     "text": [
      "/tmp/ipykernel_5055/3499296130.py:96: FutureWarning: Setting an item of incompatible dtype is deprecated and will raise an error in a future version of pandas. Value 'edad no especifica' has dtype incompatible with int64, please explicitly cast to a compatible dtype first.\n",
      "  adata.obs.loc[~edades_explicitas, 'años'] = 'edad no especifica'\n"
     ]
    },
    {
     "name": "stdout",
     "output_type": "stream",
     "text": [
      "Saved modified file as /app/project/data/ddqc_test/1.filtered_data/arreglado_e04daea4-4412-45b5-989e-76a9be070a89.h5ad\n",
      "Using raw.X for e763ed0d-0e5a-4b8e-9514-6da3d9e47956.h5ad\n",
      "Warning: e763ed0d-0e5a-4b8e-9514-6da3d9e47956.h5ad - data in adata.X are not integers.\n",
      "First few elements of adata.X after assignment: [1. 2. 1. 1. 1.]\n",
      "Initial shape of e763ed0d-0e5a-4b8e-9514-6da3d9e47956.h5ad: (7274, 23636)\n",
      "First few elements of adata.X after assignment: [1. 2. 1. 1. 1.]\n",
      "Shape after filtrar_muestra for e763ed0d-0e5a-4b8e-9514-6da3d9e47956.h5ad: (957, 23636)\n",
      "Applied cell onthology dictionary for e763ed0d-0e5a-4b8e-9514-6da3d9e47956.h5ad\n",
      "Applied age processing for e763ed0d-0e5a-4b8e-9514-6da3d9e47956.h5ad\n",
      "Shape after byc_indices for e763ed0d-0e5a-4b8e-9514-6da3d9e47956.h5ad: (957, 23636)\n",
      "Shape after filtering primary data for e763ed0d-0e5a-4b8e-9514-6da3d9e47956.h5ad: (0, 23636)\n",
      "Warning: e763ed0d-0e5a-4b8e-9514-6da3d9e47956.h5ad is empty or has insufficient data.\n"
     ]
    },
    {
     "name": "stderr",
     "output_type": "stream",
     "text": [
      "/tmp/ipykernel_5055/3499296130.py:96: FutureWarning: Setting an item of incompatible dtype is deprecated and will raise an error in a future version of pandas. Value 'edad no especifica' has dtype incompatible with float64, please explicitly cast to a compatible dtype first.\n",
      "  adata.obs.loc[~edades_explicitas, 'años'] = 'edad no especifica'\n"
     ]
    },
    {
     "name": "stdout",
     "output_type": "stream",
     "text": [
      "Using raw.X for ebc2e1ff-c8f9-466a-acf4-9d291afaf8b3.h5ad\n",
      "Warning: ebc2e1ff-c8f9-466a-acf4-9d291afaf8b3.h5ad - data in adata.X are not integers.\n",
      "First few elements of adata.X after assignment: [1. 2. 1. 1. 1.]\n",
      "Initial shape of ebc2e1ff-c8f9-466a-acf4-9d291afaf8b3.h5ad: (836148, 37412)\n",
      "First few elements of adata.X after assignment: [1. 2. 1. 1. 1.]\n",
      "Shape after filtrar_muestra for ebc2e1ff-c8f9-466a-acf4-9d291afaf8b3.h5ad: (92205, 37412)\n",
      "Applied cell onthology dictionary for ebc2e1ff-c8f9-466a-acf4-9d291afaf8b3.h5ad\n"
     ]
    },
    {
     "name": "stderr",
     "output_type": "stream",
     "text": [
      "/tmp/ipykernel_5055/3499296130.py:96: FutureWarning: Setting an item of incompatible dtype is deprecated and will raise an error in a future version of pandas. Value 'edad no especifica' has dtype incompatible with int64, please explicitly cast to a compatible dtype first.\n",
      "  adata.obs.loc[~edades_explicitas, 'años'] = 'edad no especifica'\n"
     ]
    },
    {
     "name": "stdout",
     "output_type": "stream",
     "text": [
      "Applied age processing for ebc2e1ff-c8f9-466a-acf4-9d291afaf8b3.h5ad\n",
      "Shape after byc_indices for ebc2e1ff-c8f9-466a-acf4-9d291afaf8b3.h5ad: (92205, 37412)\n",
      "Shape after filtering primary data for ebc2e1ff-c8f9-466a-acf4-9d291afaf8b3.h5ad: (92205, 37412)\n",
      "Saved modified file as /app/project/data/ddqc_test/1.filtered_data/arreglado_ebc2e1ff-c8f9-466a-acf4-9d291afaf8b3.h5ad\n",
      "Using raw.X for fe52003e-1460-4a65-a213-2bb1a508332f.h5ad\n",
      "Warning: fe52003e-1460-4a65-a213-2bb1a508332f.h5ad - data in adata.X are not integers.\n",
      "First few elements of adata.X after assignment: [1. 2. 6. 1. 2.]\n",
      "Initial shape of fe52003e-1460-4a65-a213-2bb1a508332f.h5ad: (51552, 36503)\n",
      "First few elements of adata.X after assignment: [1. 2. 6. 1. 2.]\n",
      "Shape after filtrar_muestra for fe52003e-1460-4a65-a213-2bb1a508332f.h5ad: (6368, 36503)\n",
      "Applied cell onthology dictionary for fe52003e-1460-4a65-a213-2bb1a508332f.h5ad\n",
      "Applied age processing for fe52003e-1460-4a65-a213-2bb1a508332f.h5ad\n",
      "Shape after byc_indices for fe52003e-1460-4a65-a213-2bb1a508332f.h5ad: (6368, 36503)\n",
      "Shape after filtering primary data for fe52003e-1460-4a65-a213-2bb1a508332f.h5ad: (0, 36503)\n",
      "Warning: fe52003e-1460-4a65-a213-2bb1a508332f.h5ad is empty or has insufficient data.\n"
     ]
    },
    {
     "name": "stderr",
     "output_type": "stream",
     "text": [
      "/tmp/ipykernel_5055/3499296130.py:96: FutureWarning: Setting an item of incompatible dtype is deprecated and will raise an error in a future version of pandas. Value 'edad no especifica' has dtype incompatible with float64, please explicitly cast to a compatible dtype first.\n",
      "  adata.obs.loc[~edades_explicitas, 'años'] = 'edad no especifica'\n"
     ]
    }
   ],
   "source": [
    "import os\n",
    "import scanpy as sc\n",
    "from scipy.sparse import csr_matrix\n",
    "import numpy as np\n",
    "\n",
    "\n",
    "\n",
    "\n",
    "#OLD Cell Onthology\n",
    "categories = {\n",
    "    'Células del linaje eritroide': [ 'erythrocyte', 'enucleated reticulocyte', 'erythroid lineage cell', 'erythroid progenitor cell', 'erythroid progenitor cell, mammalian'], \n",
    "\n",
    "    'Célula linfoide innata': ['innate lymphoid cell', 'group 2 innate lymphoid cell, human', 'group 3 innate lymphoid cell'],\n",
    "\n",
    "    'Células T': [ 'activated CD8-positive, alpha-beta T cell', 'activated CD4-positive, alpha-beta T cell', 'CD4-positive, alpha-beta cytotoxic T cell', 'effector memory CD8-positive, alpha-beta T cell', 'CD8-positive, alpha-beta cytotoxic T cell', 'central memory CD8-positive, alpha-beta T cell', 'CD8-positive, alpha-beta memory T cell', 'mucosal invariant T cell', 'naive thymus-derived CD8-positive, alpha-beta T cell', 'CD8-positive, alpha-beta memory T cell, CD45RO-positive', 'effector memory CD4-positive, alpha-beta T cell', 'CD8-positive, alpha-beta cytokine secreting effector T cell', 'CD4-positive, alpha-beta memory T cell','naive thymus-derived CD4-positive, alpha-beta T cell', 'regulatory T cell', 'effector memory CD8-positive, alpha-beta T cell, terminally differentiated', 'T cell', 'CD4-positive, alpha-beta T cell', 'CD8-positive, alpha-beta T cell', 'CD4-positive helper T cell', 'naive T cell', 'memory T cell', 'mature alpha-beta T cell', 'mature gamma-delta T cell',  'gamma-delta T cell', 'double negative T regulatory cell', 'double negative thymocyte', 'double-positive, alpha-beta thymocyte', 'T-helper 1 cell', 'T-helper 2 cell', 'T-helper 17 cell', 'T-helper 22 cell', 'T follicular helper cell', 'effector CD4-positive, alpha-beta T cell', 'effector CD8-positive, alpha-beta T cell', 'alpha-beta T cell'],\n",
    "\n",
    "    'Linfocitos De Linaje B': [ 'class switched memory B cell', 'naive B cell', 'memory B cell', 'mature B cell', 'immature B cell', 'plasma cell', 'plasmablast', 'transitional stage B cell', 'B cell'],\n",
    "\n",
    "    'Granulocitos': ['neutrophil', 'basophil', 'granulocyte', 'myelocyte', 'late promyelocyte', 'early promyelocyte','immature neutrophil', 'basophil mast progenitor cell'],\n",
    "\n",
    "    'Monocitos': [ 'intermediate monocyte', 'classical monocyte', 'non-classical monocyte', 'monocyte', 'CD14-positive monocyte'],\n",
    "\n",
    "    'Células epiteliales': ['epithelial cell', 'squamous epithelial cell'],\n",
    "\n",
    "    'Células asesinas naturales “NK”': [ 'CD16-negative, CD56-bright natural killer cell, human', 'mature NK T cell', 'natural killer cell', 'type I NK T cell', 'CD16-positive, CD56-dim natural killer cell, human'],\n",
    "\n",
    "    'Células dendríticas': ['CD141-positive myeloid dendritic cell', 'plasmacytoid dendritic cell', 'dendritic cell', 'dendritic cell, human', 'myeloid dendritic cell', 'CD1c-positive myeloid dendritic cell',  'conventional dendritic cell', 'myeloid dendritic cell, human'],\n",
    "\n",
    "    'Macrófagos': ['macrophage', 'alveolar macrophage'],\n",
    "\n",
    "    'Células Madre': ['hematopoietic stem cell', 'hematopoietic precursor cell', 'progenitor cell', 'cord blood hematopoietic stem cell', 'CD34-positive, CD38-negative hematopoietic stem cell', 'myeloid lineage restricted progenitor cell', 'common dendritic progenitor', 'basal cell', 'respiratory basal cell', 'common myeloid progenitor', 'hematopoietic multipotent progenitor cell', 'lymphoid lineage restricted progenitor cell'],\n",
    "\n",
    "    'Células con agrupación única': ['megakaryocyte', 'megakaryocyte-erythroid progenitor cell', 'megakaryocyte progenitor cell', 'platelet', 'club cell', 'mast cell',  'peripheral blood mononuclear cell', 'primordial germ cell', 'ILC1, human'],\n",
    "\n",
    "    'Etiquetas poco específicas': ['secretory cell', 'ciliated cell', 'professional antigen presenting cell', 'lymphocyte', 'animal cell', 'myeloid cell', 'myeloid leukocyte', 'blood cell'],\n",
    "}\n",
    "\n"
   ]
  },
  {
   "cell_type": "code",
   "execution_count": 1,
   "id": "bff37b03-f556-4434-80ea-3d2e7cc2a949",
   "metadata": {
    "execution": {
     "iopub.execute_input": "2024-10-17T02:13:15.618229Z",
     "iopub.status.busy": "2024-10-17T02:13:15.616929Z",
     "iopub.status.idle": "2024-10-17T02:13:20.525975Z",
     "shell.execute_reply": "2024-10-17T02:13:20.524808Z",
     "shell.execute_reply.started": "2024-10-17T02:13:15.618157Z"
    }
   },
   "outputs": [],
   "source": [
    "import os\n",
    "import scanpy as sc\n",
    "from scipy.sparse import csr_matrix\n",
    "import numpy as np\n",
    "\n",
    "#NEW Diversidad Humana\n",
    "categories = {\n",
    "    \n",
    "    \"B_cells\": [\n",
    "        \"naive B cell\",\n",
    "        \"transitional stage B cell\",\n",
    "        \"memory B cell\",\n",
    "        \"class switched memory B cell\",\n",
    "        \"unswitched memory B cell\",\n",
    "        \"IgG memory B cell\",\n",
    "        \"IgG-negative class switched memory B cell\",\n",
    "        \"plasma cell\",\n",
    "        \"plasmablast\",\n",
    "        \"IgA plasmablast\",\n",
    "        \"IgG plasmablast\",\n",
    "        \"IgA plasma cell\",\n",
    "        \"IgM plasma cell\",\n",
    "        \"IgG plasma cell\",\n",
    "        \"B cell\",\n",
    "        \"mature B cell\",\n",
    "        \"immature B cell\"\n",
    "    ],\n",
    "    \n",
    "    \"T_cells\": [\n",
    "        \"double negative thymocyte\",\n",
    "        \"double-positive, alpha-beta thymocyte\",\n",
    "        \"CD4-positive, alpha-beta memory T cell\",\n",
    "        \"CD4-positive, alpha-beta T cell\",\n",
    "        \"naive thymus-derived CD4-positive, alpha-beta T cell\",\n",
    "        \"CD4-positive helper T cell\",\n",
    "        \"effector memory CD4-positive, alpha-beta T cell\",\n",
    "        \"central memory CD4-positive, alpha-beta T cell\",\n",
    "        \"activated CD4-positive, alpha-beta T cell\",\n",
    "        \"activated CD4-positive, alpha-beta T cell, human\",\n",
    "        \"CD4-positive, alpha-beta cytotoxic T cell\",\n",
    "        \"effector CD4-positive, alpha-beta T cell\",\n",
    "        \"CD8-positive, alpha-beta T cell\",\n",
    "        \"naive thymus-derived CD8-positive, alpha-beta T cell\",\n",
    "        \"CD8-positive, alpha-beta cytokine secreting effector T cell\",\n",
    "        \"CD8-positive, alpha-beta memory T cell\",\n",
    "        \"CD8-positive, alpha-beta memory T cell, CD45RO-positive\",\n",
    "        \"central memory CD8-positive, alpha-beta T cell\",\n",
    "        \"effector memory CD8-positive, alpha-beta T cell\",\n",
    "        \"effector memory CD8-positive, alpha-beta T cell, terminally differentiated\",\n",
    "        \"CD8-positive, alpha-beta cytotoxic T cell\",\n",
    "        \"activated CD8-positive, alpha-beta T cell\",\n",
    "        \"activated CD8-positive, alpha-beta T cell, human\",\n",
    "        \"effector CD8-positive, alpha-beta T cell\",\n",
    "        \"T cell\",\n",
    "        \"alpha-beta T cell\",\n",
    "        \"mature alpha-beta T cell\",\n",
    "        \"memory T cell\",\n",
    "        \"naive T cell\",\n",
    "        \"regulatory T cell\",\n",
    "        \"T follicular helper cell\",\n",
    "        \"double negative T regulatory cell\",\n",
    "        \"T-helper 1 cell\",\n",
    "        \"T-helper 2 cell\",\n",
    "        \"T-helper 17 cell\",\n",
    "        \"T-helper 22 cell\",\n",
    "        \"mucosal invariant T cell\",\n",
    "        \"gamma-delta T cell\",\n",
    "        \"mature gamma-delta T cell\"\n",
    "    ],\n",
    "    \n",
    "    \"NK_cells\": [\n",
    "        \"natural killer cell\",\n",
    "        \"CD16-positive, CD56-dim natural killer cell, human\",\n",
    "        \"CD16-negative, CD56-bright natural killer cell, human\",\n",
    "        \"mature NK T cell\",\n",
    "        \"type I NK T cell\"\n",
    "    ],\n",
    "    \n",
    "    \"Myeloid_cells\": [\n",
    "        \"monocyte\",\n",
    "        \"classical monocyte\",\n",
    "        \"non-classical monocyte\",\n",
    "        \"intermediate monocyte\",\n",
    "        \"CD14-positive monocyte\",\n",
    "        \"CD14-low, CD16-positive monocyte\",\n",
    "        \"CD14-positive, CD16-negative classical monocyte\",\n",
    "        \"CD14-positive, CD16-positive monocyte\",\n",
    "        \"macrophage\",\n",
    "        \"alveolar macrophage\",\n",
    "        \"neutrophil\",\n",
    "        \"basophil\",\n",
    "        \"mast cell\",\n",
    "        \"granulocyte\",\n",
    "        \"myeloid cell\",\n",
    "        \"myeloid leukocyte\",\n",
    "        \"late promyelocyte\",\n",
    "        \"early promyelocyte\",\n",
    "        \"myelocyte\",\n",
    "    ],\n",
    "\n",
    "    \"Dendritic_cells\": [\n",
    "        \"dendritic cell\",\n",
    "        \"conventional dendritic cell\",\n",
    "        \"CD141-positive myeloid dendritic cell\",\n",
    "        \"CD1c-positive myeloid dendritic cell\",\n",
    "        \"myeloid dendritic cell\",\n",
    "        \"myeloid dendritic cell, human\",\n",
    "        \"dendritic cell, human\",\n",
    "        \"inflammatory dendritic cell\",\n",
    "        \"Langerhans cell\"\n",
    "    ],\n",
    "\n",
    "    \"Dendritic-plasmoid_cells\": [\n",
    "        \"plasmacytoid dendritic cell\",\n",
    "        \"plasmacytoid dendritic cell, human\",\n",
    "    ],\n",
    "    \n",
    "    \"CD34+_HSPC\": [\n",
    "        \"hematopoietic stem cell\",\n",
    "        \"cord blood hematopoietic stem cell\",\n",
    "        \"CD34-positive, CD38-negative hematopoietic stem cell\",\n",
    "        \"hematopoietic precursor cell\",\n",
    "        \"hematopoietic multipotent progenitor cell\",\n",
    "        \"common myeloid progenitor\",\n",
    "        \"myeloid lineage restricted progenitor cell\",\n",
    "        \"lymphoid lineage restricted progenitor cell\",\n",
    "        \"common dendritic progenitor\",\n",
    "        \"megakaryocyte-erythroid progenitor cell\",\n",
    "        \"megakaryocyte progenitor cell\",\n",
    "        \"erythroid progenitor cell\",\n",
    "        \"erythroid progenitor cell, mammalian\",\n",
    "        \"basophil mast progenitor cell\",\n",
    "        \"progenitor cell\"\n",
    "    ],\n",
    "    \n",
    "    \"Platelets\": [\n",
    "        \"platelet\",\n",
    "        \"megakaryocyte\"\n",
    "    ],\n",
    "    \n",
    "    \"RBC\": [\n",
    "        \"erythrocyte\",\n",
    "        \"erythroid lineage cell\",\n",
    "        \"enucleated reticulocyte\"\n",
    "    ],\n",
    "    \n",
    "    \"Innate_Lymphoid_Cells\": [\n",
    "        \"innate lymphoid cell\",\n",
    "        \"group 2 innate lymphoid cell, human\",\n",
    "        \"group 3 innate lymphoid cell\",\n",
    "        \"ILC1, human\"\n",
    "    ],\n",
    "\n",
    "    \"Epithelial_cells\": [\n",
    "        \"epithelial cell\",\n",
    "        \"basal cell\",\n",
    "        \"respiratory basal cell\",\n",
    "        \"club cell\"\n",
    "    ],\n",
    "    \n",
    "    \"Non-specific\": [\n",
    "        \"lymphocyte\",\n",
    "        \"professional antigen presenting cell\",\n",
    "        \"primordial germ cell\",\n",
    "        \"blood cell\",\n",
    "        \"animal cell\",\n",
    "        \"peripheral blood mononuclear cell\"\n",
    "    ]\n",
    "}\n",
    "\n"
   ]
  },
  {
   "cell_type": "code",
   "execution_count": 2,
   "id": "464418b0-4687-4203-9cf1-15252f9ffdca",
   "metadata": {
    "execution": {
     "iopub.execute_input": "2024-10-17T02:16:11.494908Z",
     "iopub.status.busy": "2024-10-17T02:16:11.494074Z",
     "iopub.status.idle": "2024-10-18T04:28:39.630391Z",
     "shell.execute_reply": "2024-10-18T04:28:39.628515Z",
     "shell.execute_reply.started": "2024-10-17T02:16:11.494843Z"
    },
    "scrolled": true
   },
   "outputs": [
    {
     "name": "stdout",
     "output_type": "stream",
     "text": [
      "Using raw.X for 055ca631-6ffb-40de-815e-b931e10718c0.h5ad\n",
      "Warning: 055ca631-6ffb-40de-815e-b931e10718c0.h5ad - data in adata.X are not integers.\n",
      "First few elements of adata.X after assignment: [1. 1. 1. 1. 1.]\n",
      "Initial shape of 055ca631-6ffb-40de-815e-b931e10718c0.h5ad: (41305, 24955)\n",
      "First few elements of adata.X after assignment: [1. 1. 1. 1. 1.]\n",
      "Shape after filtrar_muestra for 055ca631-6ffb-40de-815e-b931e10718c0.h5ad: (15765, 24955)\n",
      "Applied cell onthology dictionary for 055ca631-6ffb-40de-815e-b931e10718c0.h5ad\n",
      "Applied age processing for 055ca631-6ffb-40de-815e-b931e10718c0.h5ad\n",
      "Shape after byc_indices for 055ca631-6ffb-40de-815e-b931e10718c0.h5ad: (15765, 24955)\n",
      "Shape after filtering primary data for 055ca631-6ffb-40de-815e-b931e10718c0.h5ad: (0, 24955)\n",
      "Warning: 055ca631-6ffb-40de-815e-b931e10718c0.h5ad is empty or has insufficient data.\n"
     ]
    },
    {
     "name": "stderr",
     "output_type": "stream",
     "text": [
      "/tmp/ipykernel_56733/686833192.py:59: FutureWarning: Setting an item of incompatible dtype is deprecated and will raise an error in a future version of pandas. Value 'edad no especifica' has dtype incompatible with int64, please explicitly cast to a compatible dtype first.\n",
      "  adata.obs.loc[~edades_explicitas, 'años'] = 'edad no especifica'\n"
     ]
    },
    {
     "name": "stdout",
     "output_type": "stream",
     "text": [
      "Using raw.X for 456e8b9b-f872-488b-871d-94534090a865.h5ad\n",
      "Warning: 456e8b9b-f872-488b-871d-94534090a865.h5ad - data in adata.X are not integers.\n",
      "First few elements of adata.X after assignment: [1. 3. 1. 1. 1.]\n",
      "Initial shape of 456e8b9b-f872-488b-871d-94534090a865.h5ad: (44721, 24869)\n",
      "First few elements of adata.X after assignment: [1. 3. 1. 1. 1.]\n",
      "Shape after filtrar_muestra for 456e8b9b-f872-488b-871d-94534090a865.h5ad: (16627, 24869)\n",
      "Applied cell onthology dictionary for 456e8b9b-f872-488b-871d-94534090a865.h5ad\n",
      "Applied age processing for 456e8b9b-f872-488b-871d-94534090a865.h5ad\n",
      "Shape after byc_indices for 456e8b9b-f872-488b-871d-94534090a865.h5ad: (16627, 24869)\n"
     ]
    },
    {
     "name": "stderr",
     "output_type": "stream",
     "text": [
      "/tmp/ipykernel_56733/686833192.py:59: FutureWarning: Setting an item of incompatible dtype is deprecated and will raise an error in a future version of pandas. Value 'edad no especifica' has dtype incompatible with int64, please explicitly cast to a compatible dtype first.\n",
      "  adata.obs.loc[~edades_explicitas, 'años'] = 'edad no especifica'\n"
     ]
    },
    {
     "name": "stdout",
     "output_type": "stream",
     "text": [
      "Shape after filtering primary data for 456e8b9b-f872-488b-871d-94534090a865.h5ad: (16627, 24869)\n",
      "Saved modified file as /app/project/pipeline_colombia/1.filtered_data/456e8b9b-f872-488b-871d-94534090a865.h5ad\n",
      "Using raw.X for 4c4cd77c-8fee-4836-9145-16562a8782fe.h5ad\n",
      "Warning: 4c4cd77c-8fee-4836-9145-16562a8782fe.h5ad - data in adata.X are not integers.\n",
      "First few elements of adata.X after assignment: [1. 1. 1. 1. 1.]\n",
      "Initial shape of 4c4cd77c-8fee-4836-9145-16562a8782fe.h5ad: (43512, 22011)\n",
      "First few elements of adata.X after assignment: [1. 1. 1. 1. 1.]\n",
      "Shape after filtrar_muestra for 4c4cd77c-8fee-4836-9145-16562a8782fe.h5ad: (16298, 22011)\n",
      "Applied cell onthology dictionary for 4c4cd77c-8fee-4836-9145-16562a8782fe.h5ad\n",
      "Applied age processing for 4c4cd77c-8fee-4836-9145-16562a8782fe.h5ad\n",
      "Shape after byc_indices for 4c4cd77c-8fee-4836-9145-16562a8782fe.h5ad: (16298, 22011)\n",
      "Shape after filtering primary data for 4c4cd77c-8fee-4836-9145-16562a8782fe.h5ad: (0, 22011)\n",
      "Warning: 4c4cd77c-8fee-4836-9145-16562a8782fe.h5ad is empty or has insufficient data.\n"
     ]
    },
    {
     "name": "stderr",
     "output_type": "stream",
     "text": [
      "/tmp/ipykernel_56733/686833192.py:59: FutureWarning: Setting an item of incompatible dtype is deprecated and will raise an error in a future version of pandas. Value 'edad no especifica' has dtype incompatible with int64, please explicitly cast to a compatible dtype first.\n",
      "  adata.obs.loc[~edades_explicitas, 'años'] = 'edad no especifica'\n"
     ]
    },
    {
     "name": "stdout",
     "output_type": "stream",
     "text": [
      "Using raw.X for 59b69042-47c2-47fd-ad03-d21beb99818f.h5ad\n",
      "Warning: 59b69042-47c2-47fd-ad03-d21beb99818f.h5ad - data in adata.X are not integers.\n",
      "First few elements of adata.X after assignment: [ 1. 27.  2.  2.  2.]\n",
      "Initial shape of 59b69042-47c2-47fd-ad03-d21beb99818f.h5ad: (49139, 22878)\n",
      "First few elements of adata.X after assignment: [ 1. 27.  2.  2.  2.]\n",
      "Shape after filtrar_muestra for 59b69042-47c2-47fd-ad03-d21beb99818f.h5ad: (25954, 22878)\n",
      "Applied cell onthology dictionary for 59b69042-47c2-47fd-ad03-d21beb99818f.h5ad\n",
      "Applied age processing for 59b69042-47c2-47fd-ad03-d21beb99818f.h5ad\n",
      "Shape after byc_indices for 59b69042-47c2-47fd-ad03-d21beb99818f.h5ad: (25954, 22878)\n"
     ]
    },
    {
     "name": "stderr",
     "output_type": "stream",
     "text": [
      "/tmp/ipykernel_56733/686833192.py:59: FutureWarning: Setting an item of incompatible dtype is deprecated and will raise an error in a future version of pandas. Value 'edad no especifica' has dtype incompatible with float64, please explicitly cast to a compatible dtype first.\n",
      "  adata.obs.loc[~edades_explicitas, 'años'] = 'edad no especifica'\n"
     ]
    },
    {
     "name": "stdout",
     "output_type": "stream",
     "text": [
      "Shape after filtering primary data for 59b69042-47c2-47fd-ad03-d21beb99818f.h5ad: (25954, 22878)\n",
      "Saved modified file as /app/project/pipeline_colombia/1.filtered_data/59b69042-47c2-47fd-ad03-d21beb99818f.h5ad\n",
      "Using raw.X for 71be997d-ff75-41b9-8a9f-1288c865f921.h5ad\n",
      "Warning: 71be997d-ff75-41b9-8a9f-1288c865f921.h5ad - data in adata.X are not integers.\n",
      "First few elements of adata.X after assignment: [1. 2. 1. 1. 1.]\n",
      "Initial shape of 71be997d-ff75-41b9-8a9f-1288c865f921.h5ad: (54934, 36503)\n",
      "First few elements of adata.X after assignment: [1. 2. 1. 1. 1.]\n",
      "Shape after filtrar_muestra for 71be997d-ff75-41b9-8a9f-1288c865f921.h5ad: (549, 36503)\n",
      "Applied cell onthology dictionary for 71be997d-ff75-41b9-8a9f-1288c865f921.h5ad\n",
      "Applied age processing for 71be997d-ff75-41b9-8a9f-1288c865f921.h5ad\n",
      "Shape after byc_indices for 71be997d-ff75-41b9-8a9f-1288c865f921.h5ad: (549, 36503)\n",
      "Shape after filtering primary data for 71be997d-ff75-41b9-8a9f-1288c865f921.h5ad: (0, 36503)\n",
      "Warning: 71be997d-ff75-41b9-8a9f-1288c865f921.h5ad is empty or has insufficient data.\n"
     ]
    },
    {
     "name": "stderr",
     "output_type": "stream",
     "text": [
      "/tmp/ipykernel_56733/686833192.py:59: FutureWarning: Setting an item of incompatible dtype is deprecated and will raise an error in a future version of pandas. Value 'edad no especifica' has dtype incompatible with float64, please explicitly cast to a compatible dtype first.\n",
      "  adata.obs.loc[~edades_explicitas, 'años'] = 'edad no especifica'\n"
     ]
    },
    {
     "name": "stdout",
     "output_type": "stream",
     "text": [
      "raw.X is missing for a5d95a42-0137-496f-8a60-101e17f263c8.h5ad, checking if .X contains raw counts.\n",
      "Initial shape of a5d95a42-0137-496f-8a60-101e17f263c8.h5ad: (1324, 19181)\n",
      "First few elements of adata.X after assignment: [1. 2. 1. 1. 1.]\n",
      "Shape after filtrar_muestra for a5d95a42-0137-496f-8a60-101e17f263c8.h5ad: (646, 19181)\n",
      "Applied cell onthology dictionary for a5d95a42-0137-496f-8a60-101e17f263c8.h5ad\n",
      "Applied age processing for a5d95a42-0137-496f-8a60-101e17f263c8.h5ad\n",
      "Shape after byc_indices for a5d95a42-0137-496f-8a60-101e17f263c8.h5ad: (646, 19181)\n",
      "Shape after filtering primary data for a5d95a42-0137-496f-8a60-101e17f263c8.h5ad: (646, 19181)\n"
     ]
    },
    {
     "name": "stderr",
     "output_type": "stream",
     "text": [
      "/tmp/ipykernel_56733/686833192.py:59: FutureWarning: Setting an item of incompatible dtype is deprecated and will raise an error in a future version of pandas. Value 'edad no especifica' has dtype incompatible with int64, please explicitly cast to a compatible dtype first.\n",
      "  adata.obs.loc[~edades_explicitas, 'años'] = 'edad no especifica'\n"
     ]
    },
    {
     "name": "stdout",
     "output_type": "stream",
     "text": [
      "Saved modified file as /app/project/pipeline_colombia/1.filtered_data/a5d95a42-0137-496f-8a60-101e17f263c8.h5ad\n",
      "Using raw.X for d3566d6a-a455-4a15-980f-45eb29114cab.h5ad\n",
      "Warning: d3566d6a-a455-4a15-980f-45eb29114cab.h5ad - data in adata.X are not integers.\n",
      "First few elements of adata.X after assignment: [15.  1.  6.  1.  5.]\n",
      "Initial shape of d3566d6a-a455-4a15-980f-45eb29114cab.h5ad: (15502, 460)\n",
      "First few elements of adata.X after assignment: [15.  1.  6.  1.  5.]\n",
      "Shape after filtrar_muestra for d3566d6a-a455-4a15-980f-45eb29114cab.h5ad: (7145, 460)\n",
      "Applied cell onthology dictionary for d3566d6a-a455-4a15-980f-45eb29114cab.h5ad\n",
      "Applied age processing for d3566d6a-a455-4a15-980f-45eb29114cab.h5ad\n",
      "Shape after byc_indices for d3566d6a-a455-4a15-980f-45eb29114cab.h5ad: (7145, 460)\n",
      "Shape after filtering primary data for d3566d6a-a455-4a15-980f-45eb29114cab.h5ad: (7145, 460)\n"
     ]
    },
    {
     "name": "stderr",
     "output_type": "stream",
     "text": [
      "/tmp/ipykernel_56733/686833192.py:59: FutureWarning: Setting an item of incompatible dtype is deprecated and will raise an error in a future version of pandas. Value 'edad no especifica' has dtype incompatible with int64, please explicitly cast to a compatible dtype first.\n",
      "  adata.obs.loc[~edades_explicitas, 'años'] = 'edad no especifica'\n"
     ]
    },
    {
     "name": "stdout",
     "output_type": "stream",
     "text": [
      "Saved modified file as /app/project/pipeline_colombia/1.filtered_data/d3566d6a-a455-4a15-980f-45eb29114cab.h5ad\n",
      "Using raw.X for d7d7e89c-c93a-422d-8958-9b4a90b69558.h5ad\n",
      "Warning: d7d7e89c-c93a-422d-8958-9b4a90b69558.h5ad - data in adata.X are not integers.\n",
      "First few elements of adata.X after assignment: [1. 1. 1. 1. 4.]\n",
      "Initial shape of d7d7e89c-c93a-422d-8958-9b4a90b69558.h5ad: (16901, 17788)\n",
      "First few elements of adata.X after assignment: [1. 1. 1. 1. 4.]\n",
      "Shape after filtrar_muestra for d7d7e89c-c93a-422d-8958-9b4a90b69558.h5ad: (9912, 17788)\n",
      "Applied cell onthology dictionary for d7d7e89c-c93a-422d-8958-9b4a90b69558.h5ad\n",
      "Applied age processing for d7d7e89c-c93a-422d-8958-9b4a90b69558.h5ad\n",
      "Shape after byc_indices for d7d7e89c-c93a-422d-8958-9b4a90b69558.h5ad: (9912, 17788)\n"
     ]
    },
    {
     "name": "stderr",
     "output_type": "stream",
     "text": [
      "/tmp/ipykernel_56733/686833192.py:59: FutureWarning: Setting an item of incompatible dtype is deprecated and will raise an error in a future version of pandas. Value 'edad no especifica' has dtype incompatible with int64, please explicitly cast to a compatible dtype first.\n",
      "  adata.obs.loc[~edades_explicitas, 'años'] = 'edad no especifica'\n"
     ]
    },
    {
     "name": "stdout",
     "output_type": "stream",
     "text": [
      "Shape after filtering primary data for d7d7e89c-c93a-422d-8958-9b4a90b69558.h5ad: (9912, 17788)\n",
      "Saved modified file as /app/project/pipeline_colombia/1.filtered_data/d7d7e89c-c93a-422d-8958-9b4a90b69558.h5ad\n",
      "Using raw.X for d9b4bc69-ed90-4f5f-99b2-61b0681ba436.h5ad\n",
      "Warning: d9b4bc69-ed90-4f5f-99b2-61b0681ba436.h5ad - data in adata.X are not integers.\n",
      "First few elements of adata.X after assignment: [1. 1. 2. 3. 4.]\n",
      "Initial shape of d9b4bc69-ed90-4f5f-99b2-61b0681ba436.h5ad: (20000, 23636)\n",
      "First few elements of adata.X after assignment: [1. 1. 2. 3. 4.]\n",
      "Shape after filtrar_muestra for d9b4bc69-ed90-4f5f-99b2-61b0681ba436.h5ad: (6105, 23636)\n",
      "Applied cell onthology dictionary for d9b4bc69-ed90-4f5f-99b2-61b0681ba436.h5ad\n",
      "Applied age processing for d9b4bc69-ed90-4f5f-99b2-61b0681ba436.h5ad\n",
      "Shape after byc_indices for d9b4bc69-ed90-4f5f-99b2-61b0681ba436.h5ad: (6105, 23636)\n",
      "Shape after filtering primary data for d9b4bc69-ed90-4f5f-99b2-61b0681ba436.h5ad: (0, 23636)\n",
      "Warning: d9b4bc69-ed90-4f5f-99b2-61b0681ba436.h5ad is empty or has insufficient data.\n"
     ]
    },
    {
     "name": "stderr",
     "output_type": "stream",
     "text": [
      "/tmp/ipykernel_56733/686833192.py:59: FutureWarning: Setting an item of incompatible dtype is deprecated and will raise an error in a future version of pandas. Value 'edad no especifica' has dtype incompatible with float64, please explicitly cast to a compatible dtype first.\n",
      "  adata.obs.loc[~edades_explicitas, 'años'] = 'edad no especifica'\n"
     ]
    },
    {
     "name": "stdout",
     "output_type": "stream",
     "text": [
      "Using raw.X for db0752b9-f20e-40b8-8997-992f3ae0bb2e.h5ad\n",
      "Warning: db0752b9-f20e-40b8-8997-992f3ae0bb2e.h5ad - data in adata.X are not integers.\n",
      "First few elements of adata.X after assignment: [1. 1. 1. 2. 1.]\n",
      "Initial shape of db0752b9-f20e-40b8-8997-992f3ae0bb2e.h5ad: (55348, 23636)\n",
      "First few elements of adata.X after assignment: [1. 1. 1. 2. 1.]\n",
      "Shape after filtrar_muestra for db0752b9-f20e-40b8-8997-992f3ae0bb2e.h5ad: (13813, 23636)\n",
      "Applied cell onthology dictionary for db0752b9-f20e-40b8-8997-992f3ae0bb2e.h5ad\n",
      "Applied age processing for db0752b9-f20e-40b8-8997-992f3ae0bb2e.h5ad\n"
     ]
    },
    {
     "name": "stderr",
     "output_type": "stream",
     "text": [
      "/tmp/ipykernel_56733/686833192.py:59: FutureWarning: Setting an item of incompatible dtype is deprecated and will raise an error in a future version of pandas. Value 'edad no especifica' has dtype incompatible with float64, please explicitly cast to a compatible dtype first.\n",
      "  adata.obs.loc[~edades_explicitas, 'años'] = 'edad no especifica'\n"
     ]
    },
    {
     "name": "stdout",
     "output_type": "stream",
     "text": [
      "Shape after byc_indices for db0752b9-f20e-40b8-8997-992f3ae0bb2e.h5ad: (13813, 23636)\n",
      "Shape after filtering primary data for db0752b9-f20e-40b8-8997-992f3ae0bb2e.h5ad: (0, 23636)\n",
      "Warning: db0752b9-f20e-40b8-8997-992f3ae0bb2e.h5ad is empty or has insufficient data.\n",
      "raw.X is missing for de2c780c-1747-40bd-9ccf-9588ec186cee.h5ad, checking if .X contains raw counts.\n",
      "Initial shape of de2c780c-1747-40bd-9ccf-9588ec186cee.h5ad: (59572, 33234)\n",
      "First few elements of adata.X after assignment: [1. 1. 1. 2. 1.]\n",
      "Shape after filtrar_muestra for de2c780c-1747-40bd-9ccf-9588ec186cee.h5ad: (17590, 33234)\n",
      "Applied cell onthology dictionary for de2c780c-1747-40bd-9ccf-9588ec186cee.h5ad\n",
      "Applied age processing for de2c780c-1747-40bd-9ccf-9588ec186cee.h5ad\n"
     ]
    },
    {
     "name": "stderr",
     "output_type": "stream",
     "text": [
      "/tmp/ipykernel_56733/686833192.py:59: FutureWarning: Setting an item of incompatible dtype is deprecated and will raise an error in a future version of pandas. Value 'edad no especifica' has dtype incompatible with int64, please explicitly cast to a compatible dtype first.\n",
      "  adata.obs.loc[~edades_explicitas, 'años'] = 'edad no especifica'\n"
     ]
    },
    {
     "name": "stdout",
     "output_type": "stream",
     "text": [
      "Shape after byc_indices for de2c780c-1747-40bd-9ccf-9588ec186cee.h5ad: (17590, 33234)\n",
      "Shape after filtering primary data for de2c780c-1747-40bd-9ccf-9588ec186cee.h5ad: (17590, 33234)\n",
      "Saved modified file as /app/project/pipeline_colombia/1.filtered_data/de2c780c-1747-40bd-9ccf-9588ec186cee.h5ad\n",
      "Using raw.X for e04daea4-4412-45b5-989e-76a9be070a89.h5ad\n",
      "Warning: e04daea4-4412-45b5-989e-76a9be070a89.h5ad - data in adata.X are not integers.\n",
      "First few elements of adata.X after assignment: [317.  68.   9.   1.  94.]\n",
      "Initial shape of e04daea4-4412-45b5-989e-76a9be070a89.h5ad: (9409, 54535)\n",
      "First few elements of adata.X after assignment: [317.  68.   9.   1.  94.]\n",
      "Shape after filtrar_muestra for e04daea4-4412-45b5-989e-76a9be070a89.h5ad: (752, 54535)\n",
      "Applied cell onthology dictionary for e04daea4-4412-45b5-989e-76a9be070a89.h5ad\n",
      "Applied age processing for e04daea4-4412-45b5-989e-76a9be070a89.h5ad\n",
      "Shape after byc_indices for e04daea4-4412-45b5-989e-76a9be070a89.h5ad: (752, 54535)\n",
      "Shape after filtering primary data for e04daea4-4412-45b5-989e-76a9be070a89.h5ad: (752, 54535)\n"
     ]
    },
    {
     "name": "stderr",
     "output_type": "stream",
     "text": [
      "/tmp/ipykernel_56733/686833192.py:59: FutureWarning: Setting an item of incompatible dtype is deprecated and will raise an error in a future version of pandas. Value 'edad no especifica' has dtype incompatible with int64, please explicitly cast to a compatible dtype first.\n",
      "  adata.obs.loc[~edades_explicitas, 'años'] = 'edad no especifica'\n"
     ]
    },
    {
     "name": "stdout",
     "output_type": "stream",
     "text": [
      "Saved modified file as /app/project/pipeline_colombia/1.filtered_data/e04daea4-4412-45b5-989e-76a9be070a89.h5ad\n",
      "Using raw.X for e763ed0d-0e5a-4b8e-9514-6da3d9e47956.h5ad\n",
      "Warning: e763ed0d-0e5a-4b8e-9514-6da3d9e47956.h5ad - data in adata.X are not integers.\n",
      "First few elements of adata.X after assignment: [1. 2. 1. 1. 1.]\n",
      "Initial shape of e763ed0d-0e5a-4b8e-9514-6da3d9e47956.h5ad: (7274, 23636)\n",
      "First few elements of adata.X after assignment: [1. 2. 1. 1. 1.]\n",
      "Shape after filtrar_muestra for e763ed0d-0e5a-4b8e-9514-6da3d9e47956.h5ad: (957, 23636)\n",
      "Applied cell onthology dictionary for e763ed0d-0e5a-4b8e-9514-6da3d9e47956.h5ad\n",
      "Applied age processing for e763ed0d-0e5a-4b8e-9514-6da3d9e47956.h5ad\n",
      "Shape after byc_indices for e763ed0d-0e5a-4b8e-9514-6da3d9e47956.h5ad: (957, 23636)\n",
      "Shape after filtering primary data for e763ed0d-0e5a-4b8e-9514-6da3d9e47956.h5ad: (0, 23636)\n",
      "Warning: e763ed0d-0e5a-4b8e-9514-6da3d9e47956.h5ad is empty or has insufficient data.\n"
     ]
    },
    {
     "name": "stderr",
     "output_type": "stream",
     "text": [
      "/tmp/ipykernel_56733/686833192.py:59: FutureWarning: Setting an item of incompatible dtype is deprecated and will raise an error in a future version of pandas. Value 'edad no especifica' has dtype incompatible with float64, please explicitly cast to a compatible dtype first.\n",
      "  adata.obs.loc[~edades_explicitas, 'años'] = 'edad no especifica'\n"
     ]
    }
   ],
   "source": [
    "# Redefiniendo la función para asignar el grupo de células basado en el tipo de célula y las categorías definidas\n",
    "def assign_cell_group(cell_type):\n",
    "    for group, types in categories.items():\n",
    "        if cell_type in types:\n",
    "            return group\n",
    "    return \"Uncategorized\"  # En caso de que no se encuentre una categoría para un tipo de célula específico\n",
    "\n",
    "\n",
    "# Function to filter samples\n",
    "def filtrar_muestra(adata):\n",
    "    filtro = (\n",
    "        #(adata.obs['is_primary_data'] == 'True') &\n",
    "        (adata.obs['tissue'] == 'blood') &\n",
    "        (adata.obs['disease'] == 'normal') &\n",
    "        (adata.obs['sex'] != 'unknown') &\n",
    "        (adata.obs['organism'] == 'Homo sapiens')\n",
    "    )\n",
    "    adata = adata[filtro].copy()\n",
    "    return adata\n",
    "\n",
    "# Function to map age stage\n",
    "def map_age_stage(stage):\n",
    "    infant_labels = [\n",
    "        'infant stage', 'newborn human stage', 'adolescent stage',\n",
    "        '2-5 year-old child stage', '6-12 year-old child stage'\n",
    "    ]\n",
    "    adult_labels = [\n",
    "        'human adult stage', 'third decade human stage',\n",
    "        'fourth decade human stage', 'fifth decade human stage'\n",
    "    ]\n",
    "    aged_labels = [\n",
    "        'human aged stage', 'sixth decade human stage',\n",
    "        'seventh decade human stage', '80 year-old and over human stage'\n",
    "    ]\n",
    "\n",
    "    if stage in infant_labels:\n",
    "        return 'joven'\n",
    "    if stage in adult_labels:\n",
    "        return 'adulto'\n",
    "    if stage in aged_labels:\n",
    "        return 'envejecido'\n",
    "\n",
    "    if 'year-old human stage' in stage:\n",
    "        age = int(stage.split('-')[0])\n",
    "        if 0 <= age <= 34:\n",
    "            return 'joven'\n",
    "        elif 34 < age <= 60:\n",
    "            return 'adulto'\n",
    "        else:\n",
    "            return 'envejecido'\n",
    "\n",
    "    return 'Otros'\n",
    "\n",
    "# Function to process ages\n",
    "def procesar_edades(adata):\n",
    "    edades_explicitas = adata.obs['development_stage'].str.contains('year-old human stage')\n",
    "    exp_filtrados = adata.obs.loc[edades_explicitas, 'development_stage']\n",
    "    adata.obs['años'] = exp_filtrados.str.extract(r'(\\d+)').astype(int)\n",
    "    adata.obs.loc[~edades_explicitas, 'años'] = 'edad no especifica'\n",
    "    adata.obs['años'] = adata.obs['años'].astype(str)  # Convertir todos los valores a cadenas\n",
    "    return adata\n",
    "\n",
    "# Function to set gene symbols as index\n",
    "def byc_indices(adata):\n",
    "    adata.var.index.name = 'ensemble_id'\n",
    "    adata.var = adata.var.reset_index()\n",
    "    possible_names = ['gene_symbols', 'gene_symbol', 'feature_name', 'feature_names', 'gene_name', 'gene_names']\n",
    "    columns_lowercase = [col.lower() for col in adata.var.columns]\n",
    "    for name in possible_names:\n",
    "        if name.lower() in columns_lowercase:\n",
    "            adata.var.rename(columns={name: 'gene_s'}, inplace=True)\n",
    "            adata.var['gene_s'] = adata.var['gene_s'].astype(str)\n",
    "            adata.var.set_index('gene_s', inplace=True)\n",
    "            break\n",
    "    else:\n",
    "        print(f\"No se encontró una columna de símbolos genéticos\")\n",
    "\n",
    "    return adata.copy()\n",
    "\n",
    "# Function to process and save files\n",
    "def process_and_save_files(directory):\n",
    "    for filename in os.listdir(directory):\n",
    "        if filename.endswith(\".h5ad\"):\n",
    "            filepath = os.path.join(directory, filename)\n",
    "            adata = sc.read_h5ad(filepath)\n",
    "\n",
    "            # Ensure using raw data\n",
    "            if adata.raw is not None and getattr(adata.raw, 'X', None) is not None:\n",
    "                adata.X = adata.raw.X\n",
    "                del adata.raw  # Delete adata.raw to avoid future confusion\n",
    "                print(f\"Using raw.X for {filename}\")\n",
    "                \n",
    "                # Check if the data in adata.X are integers (raw counts)\n",
    "                if isinstance(adata.X, csr_matrix):\n",
    "                    data = adata.X.data\n",
    "                else:\n",
    "                    data = adata.X\n",
    "\n",
    "                if not np.issubdtype(data.dtype, np.integer):\n",
    "                    print(f\"Warning: {filename} - data in adata.X are not integers.\")\n",
    "                else:\n",
    "                    print(f\"Data in adata.X are integers for {filename}\")\n",
    "\n",
    "                print(f\"First few elements of adata.X after assignment: {data[:5]}\")\n",
    "            else:\n",
    "                print(f\"raw.X is missing for {filename}, checking if .X contains raw counts.\")\n",
    "                # Add your logic to verify if adata.X contains raw counts\n",
    "                # For example, if the counts are non-integer, assume they are not raw\n",
    "                if not np.all(np.equal(np.mod(adata.X.data if isinstance(adata.X, csr_matrix) else adata.X, 1), 0)):\n",
    "                    print(f\"{filename}: .X does not contain raw counts.\")\n",
    "                    continue  # Skip this file\n",
    "\n",
    "            print(f\"Initial shape of {filename}: {adata.shape}\")\n",
    "\n",
    "            adata.X = adata.X.astype(np.int32)\n",
    "            print(f\"First few elements of adata.X after assignment: {data[:5]}\")\n",
    "\n",
    "            # Apply filtering\n",
    "            adata = filtrar_muestra(adata)\n",
    "            print(f\"Shape after filtrar_muestra for {filename}: {adata.shape}\")\n",
    "\n",
    "            # Asignando la nueva columna al DataFrame\n",
    "            adata.obs['cell_group'] = adata.obs['cell_type'].apply(assign_cell_group)\n",
    "            print(f\"Applied cell onthology dictionary for {filename}\")\n",
    "\n",
    "            # Apply age processing\n",
    "            adata = procesar_edades(adata)\n",
    "            adata.obs['grupos_edades'] = adata.obs['development_stage'].apply(map_age_stage)\n",
    "            print(f\"Applied age processing for {filename}\")\n",
    "\n",
    "            # Set gene symbols as index\n",
    "            adata = byc_indices(adata)\n",
    "            print(f\"Shape after byc_indices for {filename}: {adata.shape}\")\n",
    "\n",
    "            if 'is_primary_data' in adata.obs.columns:\n",
    "                adata = adata[adata.obs['is_primary_data'] == True].copy()\n",
    "                print(f\"Shape after filtering primary data for {filename}: {adata.shape}\")\n",
    "            else:\n",
    "                print(f\"is_primary_data not found in obs for {filename}\")\n",
    "\n",
    "            if adata.shape[0] == 0 or adata.shape[1] == 0:\n",
    "                print(f\"Warning: {filename} is empty or has insufficient data.\")\n",
    "                continue\n",
    "\n",
    "            # Check for negative values and handle them\n",
    "            if isinstance(adata.X, csr_matrix):\n",
    "                if np.any(adata.X.data < 0):\n",
    "                    print(f\"Negative values found in {filename}, setting them to zero.\")\n",
    "                    adata.X.data = np.maximum(adata.X.data, 0)\n",
    "            else:\n",
    "                if np.any(adata.X < 0):\n",
    "                    print(f\"Negative values found in {filename}, setting them to zero.\")\n",
    "                    adata.X = np.maximum(adata.X, 0)\n",
    "\n",
    "            if not isinstance(adata.X, csr_matrix):\n",
    "                adata.X = csr_matrix(adata.X)\n",
    "\n",
    "            output_path = os.path.join('/app/project/pipeline_colombia/1.filtered_data', f\"{filename}\")\n",
    "            adata.write_h5ad(output_path)\n",
    "            print(f\"Saved modified file as {output_path}\")\n",
    "\n",
    "# Define the directory containing the .h5ad files\n",
    "directory = \"/app/project/pipeline_colombia/h5ad\"\n",
    "process_and_save_files(directory)\n"
   ]
  },
  {
   "cell_type": "code",
   "execution_count": 3,
   "id": "ff371714-2bd9-4f96-a803-7f8dc1501958",
   "metadata": {
    "execution": {
     "iopub.execute_input": "2024-10-18T06:40:59.760369Z",
     "iopub.status.busy": "2024-10-18T06:40:59.759292Z",
     "iopub.status.idle": "2024-10-18T06:41:12.357152Z",
     "shell.execute_reply": "2024-10-18T06:41:12.356070Z",
     "shell.execute_reply.started": "2024-10-18T06:40:59.760286Z"
    },
    "scrolled": true
   },
   "outputs": [
    {
     "data": {
      "text/html": [
       "<div>\n",
       "<style scoped>\n",
       "    .dataframe tbody tr th:only-of-type {\n",
       "        vertical-align: middle;\n",
       "    }\n",
       "\n",
       "    .dataframe tbody tr th {\n",
       "        vertical-align: top;\n",
       "    }\n",
       "\n",
       "    .dataframe thead th {\n",
       "        text-align: right;\n",
       "    }\n",
       "</style>\n",
       "<table border=\"1\" class=\"dataframe\">\n",
       "  <thead>\n",
       "    <tr style=\"text-align: right;\">\n",
       "      <th></th>\n",
       "      <th>ensemble_id</th>\n",
       "      <th>feature_is_filtered</th>\n",
       "      <th>feature_name</th>\n",
       "      <th>feature_reference</th>\n",
       "      <th>feature_biotype</th>\n",
       "    </tr>\n",
       "    <tr>\n",
       "      <th>gene_s</th>\n",
       "      <th></th>\n",
       "      <th></th>\n",
       "      <th></th>\n",
       "      <th></th>\n",
       "      <th></th>\n",
       "    </tr>\n",
       "  </thead>\n",
       "  <tbody>\n",
       "    <tr>\n",
       "      <th>RP11-34P13.7</th>\n",
       "      <td>ENSG00000238009</td>\n",
       "      <td>False</td>\n",
       "      <td>RP11-34P13.7</td>\n",
       "      <td>NCBITaxon:9606</td>\n",
       "      <td>gene</td>\n",
       "    </tr>\n",
       "    <tr>\n",
       "      <th>FO538757.3</th>\n",
       "      <td>ENSG00000279928</td>\n",
       "      <td>False</td>\n",
       "      <td>DDX11L17</td>\n",
       "      <td>NCBITaxon:9606</td>\n",
       "      <td>gene</td>\n",
       "    </tr>\n",
       "    <tr>\n",
       "      <th>FO538757.2</th>\n",
       "      <td>ENSG00000279457</td>\n",
       "      <td>False</td>\n",
       "      <td>WASH9P</td>\n",
       "      <td>NCBITaxon:9606</td>\n",
       "      <td>gene</td>\n",
       "    </tr>\n",
       "    <tr>\n",
       "      <th>AP006222.2</th>\n",
       "      <td>ENSG00000228463</td>\n",
       "      <td>False</td>\n",
       "      <td>AP006222.1</td>\n",
       "      <td>NCBITaxon:9606</td>\n",
       "      <td>gene</td>\n",
       "    </tr>\n",
       "    <tr>\n",
       "      <th>RP5-857K21.4</th>\n",
       "      <td>ENSG00000230021</td>\n",
       "      <td>False</td>\n",
       "      <td>RP11-206L10.17</td>\n",
       "      <td>NCBITaxon:9606</td>\n",
       "      <td>gene</td>\n",
       "    </tr>\n",
       "    <tr>\n",
       "      <th>...</th>\n",
       "      <td>...</td>\n",
       "      <td>...</td>\n",
       "      <td>...</td>\n",
       "      <td>...</td>\n",
       "      <td>...</td>\n",
       "    </tr>\n",
       "    <tr>\n",
       "      <th>RP4-681N20.5</th>\n",
       "      <td>ENSG00000275582</td>\n",
       "      <td>False</td>\n",
       "      <td>RP4-681N20.5</td>\n",
       "      <td>NCBITaxon:9606</td>\n",
       "      <td>gene</td>\n",
       "    </tr>\n",
       "    <tr>\n",
       "      <th>LINC00659</th>\n",
       "      <td>ENSG00000228705</td>\n",
       "      <td>False</td>\n",
       "      <td>LINC00659</td>\n",
       "      <td>NCBITaxon:9606</td>\n",
       "      <td>gene</td>\n",
       "    </tr>\n",
       "    <tr>\n",
       "      <th>PON3</th>\n",
       "      <td>ENSG00000105852</td>\n",
       "      <td>False</td>\n",
       "      <td>PON3</td>\n",
       "      <td>NCBITaxon:9606</td>\n",
       "      <td>gene</td>\n",
       "    </tr>\n",
       "    <tr>\n",
       "      <th>USP43</th>\n",
       "      <td>ENSG00000154914</td>\n",
       "      <td>False</td>\n",
       "      <td>USP43</td>\n",
       "      <td>NCBITaxon:9606</td>\n",
       "      <td>gene</td>\n",
       "    </tr>\n",
       "    <tr>\n",
       "      <th>RP11-394J1.2</th>\n",
       "      <td>ENSG00000258177</td>\n",
       "      <td>False</td>\n",
       "      <td>RP11-394J1.2</td>\n",
       "      <td>NCBITaxon:9606</td>\n",
       "      <td>gene</td>\n",
       "    </tr>\n",
       "  </tbody>\n",
       "</table>\n",
       "<p>17788 rows × 5 columns</p>\n",
       "</div>"
      ],
      "text/plain": [
       "                  ensemble_id  feature_is_filtered    feature_name  \\\n",
       "gene_s                                                               \n",
       "RP11-34P13.7  ENSG00000238009                False    RP11-34P13.7   \n",
       "FO538757.3    ENSG00000279928                False        DDX11L17   \n",
       "FO538757.2    ENSG00000279457                False          WASH9P   \n",
       "AP006222.2    ENSG00000228463                False      AP006222.1   \n",
       "RP5-857K21.4  ENSG00000230021                False  RP11-206L10.17   \n",
       "...                       ...                  ...             ...   \n",
       "RP4-681N20.5  ENSG00000275582                False    RP4-681N20.5   \n",
       "LINC00659     ENSG00000228705                False       LINC00659   \n",
       "PON3          ENSG00000105852                False            PON3   \n",
       "USP43         ENSG00000154914                False           USP43   \n",
       "RP11-394J1.2  ENSG00000258177                False    RP11-394J1.2   \n",
       "\n",
       "             feature_reference feature_biotype  \n",
       "gene_s                                          \n",
       "RP11-34P13.7    NCBITaxon:9606            gene  \n",
       "FO538757.3      NCBITaxon:9606            gene  \n",
       "FO538757.2      NCBITaxon:9606            gene  \n",
       "AP006222.2      NCBITaxon:9606            gene  \n",
       "RP5-857K21.4    NCBITaxon:9606            gene  \n",
       "...                        ...             ...  \n",
       "RP4-681N20.5    NCBITaxon:9606            gene  \n",
       "LINC00659       NCBITaxon:9606            gene  \n",
       "PON3            NCBITaxon:9606            gene  \n",
       "USP43           NCBITaxon:9606            gene  \n",
       "RP11-394J1.2    NCBITaxon:9606            gene  \n",
       "\n",
       "[17788 rows x 5 columns]"
      ]
     },
     "execution_count": 3,
     "metadata": {},
     "output_type": "execute_result"
    }
   ],
   "source": [
    "import scanpy as sc\n",
    "adata = sc.read_h5ad('/app/project/pipeline_colombia/1.filtered_data/d7d7e89c-c93a-422d-8958-9b4a90b69558.h5ad')\n",
    "adata.var"
   ]
  },
  {
   "cell_type": "code",
   "execution_count": 4,
   "id": "7f7ddb8e-4804-4979-ad68-43da633696af",
   "metadata": {
    "execution": {
     "iopub.execute_input": "2024-10-18T06:41:57.334990Z",
     "iopub.status.busy": "2024-10-18T06:41:57.333649Z",
     "iopub.status.idle": "2024-10-18T06:41:57.345855Z",
     "shell.execute_reply": "2024-10-18T06:41:57.344489Z",
     "shell.execute_reply.started": "2024-10-18T06:41:57.334883Z"
    }
   },
   "outputs": [
    {
     "data": {
      "text/plain": [
       "AnnData object with n_obs × n_vars = 9912 × 17788\n",
       "    obs: 'activation', 'batch', 'bh_pval', 'n_counts', 'n_genes', 'percent_mito', 'sample', 'scrublet_cluster_score', 'scrublet_score', 'is_doublet', 'probabilities', 'celltype_predictions', 'S_score', 'G2M_score', 'phase', 'cell_type_corrected_final', 'assay_ontology_term_id', 'cell_type_ontology_term_id', 'development_stage_ontology_term_id', 'disease_ontology_term_id', 'donor_id', 'is_primary_data', 'organism_ontology_term_id', 'self_reported_ethnicity_ontology_term_id', 'sex_ontology_term_id', 'suspension_type', 'tissue_ontology_term_id', 'cell_type', 'assay', 'disease', 'organism', 'sex', 'tissue', 'self_reported_ethnicity', 'development_stage', 'cell_group', 'años', 'grupos_edades'\n",
       "    var: 'ensemble_id', 'feature_is_filtered', 'feature_name', 'feature_reference', 'feature_biotype'\n",
       "    uns: 'default_embedding', 'schema_version', 'title'\n",
       "    obsm: 'X_pca', 'X_umap'"
      ]
     },
     "execution_count": 4,
     "metadata": {},
     "output_type": "execute_result"
    }
   ],
   "source": [
    "adata"
   ]
  },
  {
   "cell_type": "code",
   "execution_count": 5,
   "id": "a5830c19-cf83-4ed7-9dc9-a1bd8c422ac3",
   "metadata": {
    "execution": {
     "iopub.execute_input": "2024-10-18T06:42:05.080508Z",
     "iopub.status.busy": "2024-10-18T06:42:05.077277Z",
     "iopub.status.idle": "2024-10-18T06:42:05.098297Z",
     "shell.execute_reply": "2024-10-18T06:42:05.096843Z",
     "shell.execute_reply.started": "2024-10-18T06:42:05.080400Z"
    }
   },
   "outputs": [
    {
     "data": {
      "text/plain": [
       "grupos_edades\n",
       "joven    9912\n",
       "Name: count, dtype: int64"
      ]
     },
     "execution_count": 5,
     "metadata": {},
     "output_type": "execute_result"
    }
   ],
   "source": [
    "adata.obs['grupos_edades'].value_counts()"
   ]
  },
  {
   "cell_type": "code",
   "execution_count": 6,
   "id": "cec7120a",
   "metadata": {},
   "outputs": [
    {
     "data": {
      "text/plain": [
       "años\n",
       "26    9912\n",
       "Name: count, dtype: int64"
      ]
     },
     "execution_count": 6,
     "metadata": {},
     "output_type": "execute_result"
    }
   ],
   "source": [
    "adata.obs['años'].value_counts()"
   ]
  },
  {
   "cell_type": "code",
   "execution_count": 8,
   "id": "f5c7f6c4-c05e-4a7b-ad2f-6cf88f842d2c",
   "metadata": {
    "execution": {
     "iopub.execute_input": "2024-10-18T06:42:07.328704Z",
     "iopub.status.busy": "2024-10-18T06:42:07.327446Z",
     "iopub.status.idle": "2024-10-18T06:42:08.021778Z",
     "shell.execute_reply": "2024-10-18T06:42:08.020301Z",
     "shell.execute_reply.started": "2024-10-18T06:42:07.328603Z"
    }
   },
   "outputs": [
    {
     "name": "stdout",
     "output_type": "stream",
     "text": [
      "  (0, 23)\t1\n",
      "  (0, 44)\t1\n",
      "  (0, 50)\t1\n",
      "  (0, 51)\t1\n",
      "  (0, 78)\t10\n",
      "  (0, 100)\t2\n",
      "  (0, 103)\t1\n",
      "  (0, 104)\t1\n",
      "  (0, 124)\t1\n",
      "  (0, 126)\t1\n",
      "  (0, 128)\t1\n",
      "  (0, 135)\t1\n",
      "  (0, 153)\t1\n",
      "  (0, 217)\t1\n",
      "  (0, 218)\t1\n",
      "  (0, 234)\t11\n",
      "  (0, 244)\t1\n",
      "  (0, 250)\t1\n",
      "  (0, 255)\t1\n",
      "  (0, 273)\t5\n",
      "  (0, 277)\t2\n",
      "  (0, 278)\t1\n",
      "  (0, 292)\t1\n",
      "  (0, 305)\t2\n",
      "  (0, 306)\t3\n",
      "  :\t:\n",
      "  (9911, 14657)\t1\n",
      "  (9911, 14662)\t1\n",
      "  (9911, 14680)\t1\n",
      "  (9911, 14689)\t1\n",
      "  (9911, 14694)\t2\n",
      "  (9911, 14704)\t1\n",
      "  (9911, 14724)\t1\n",
      "  (9911, 14738)\t1\n",
      "  (9911, 14751)\t1\n",
      "  (9911, 14756)\t1\n",
      "  (9911, 14811)\t1\n",
      "  (9911, 14834)\t1\n",
      "  (9911, 14884)\t1\n",
      "  (9911, 14892)\t1\n",
      "  (9911, 14986)\t5\n",
      "  (9911, 14988)\t14\n",
      "  (9911, 14989)\t10\n",
      "  (9911, 14991)\t4\n",
      "  (9911, 14992)\t5\n",
      "  (9911, 14993)\t4\n",
      "  (9911, 14994)\t5\n",
      "  (9911, 14995)\t2\n",
      "  (9911, 14997)\t1\n",
      "  (9911, 14998)\t2\n",
      "  (9911, 16026)\t1\n"
     ]
    }
   ],
   "source": [
    "print(adata.X)"
   ]
  },
  {
   "cell_type": "code",
   "execution_count": 9,
   "id": "23339864-3011-4e34-98d9-39257cf9a4fb",
   "metadata": {
    "execution": {
     "iopub.execute_input": "2024-10-18T06:42:14.926018Z",
     "iopub.status.busy": "2024-10-18T06:42:14.924930Z",
     "iopub.status.idle": "2024-10-18T06:42:14.941355Z",
     "shell.execute_reply": "2024-10-18T06:42:14.939839Z",
     "shell.execute_reply.started": "2024-10-18T06:42:14.925945Z"
    }
   },
   "outputs": [
    {
     "data": {
      "text/plain": [
       "['B cells', 'T cells', 'NK cells', 'Myeloid cells']\n",
       "Categories (4, object): ['B cells', 'Myeloid cells', 'NK cells', 'T cells']"
      ]
     },
     "execution_count": 9,
     "metadata": {},
     "output_type": "execute_result"
    }
   ],
   "source": [
    "adata.obs['cell_group'].unique()"
   ]
  },
  {
   "cell_type": "code",
   "execution_count": null,
   "id": "536de3a6-6285-43db-87b3-1e69be7f4248",
   "metadata": {},
   "outputs": [],
   "source": []
  }
 ],
 "metadata": {
  "kernelspec": {
   "display_name": "Python 3",
   "language": "python",
   "name": "python3"
  },
  "language_info": {
   "codemirror_mode": {
    "name": "ipython",
    "version": 3
   },
   "file_extension": ".py",
   "mimetype": "text/x-python",
   "name": "python",
   "nbconvert_exporter": "python",
   "pygments_lexer": "ipython3",
   "version": "3.9.7"
  }
 },
 "nbformat": 4,
 "nbformat_minor": 5
}
